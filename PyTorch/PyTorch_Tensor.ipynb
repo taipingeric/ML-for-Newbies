{
  "nbformat": 4,
  "nbformat_minor": 0,
  "metadata": {
    "colab": {
      "provenance": [],
      "private_outputs": true
    },
    "kernelspec": {
      "name": "python3",
      "display_name": "Python 3"
    },
    "language_info": {
      "name": "python"
    }
  },
  "cells": [
    {
      "cell_type": "markdown",
      "source": [
        "PyTorch official API document: https://pytorch.org/docs/stable/index.html"
      ],
      "metadata": {
        "id": "rVlT_ZtJjkaA"
      }
    },
    {
      "cell_type": "code",
      "metadata": {
        "id": "QFmWAr0X46R5"
      },
      "source": [
        "import torch\n",
        "import numpy as np"
      ],
      "execution_count": null,
      "outputs": []
    },
    {
      "cell_type": "markdown",
      "metadata": {
        "id": "KPsB38aO6wOj"
      },
      "source": [
        "# torch.Tensor\n",
        "\n",
        "含有單一資料類型元素的多維矩陣"
      ]
    },
    {
      "cell_type": "markdown",
      "metadata": {
        "id": "HOzvBjaW6_oN"
      },
      "source": [
        "#### Tensor Initialization\n",
        "\n",
        "張量初始化"
      ]
    },
    {
      "cell_type": "markdown",
      "source": [
        "#### torch.tensor()"
      ],
      "metadata": {
        "id": "1kWdgUtIHJ9m"
      }
    },
    {
      "cell_type": "code",
      "source": [
        "# from python list\n",
        "torch.tensor([\n",
        "    [1., -1.],\n",
        "    [1., -1.]\n",
        "])"
      ],
      "metadata": {
        "id": "NnaRuHZwGaHK"
      },
      "execution_count": null,
      "outputs": []
    },
    {
      "cell_type": "code",
      "source": [
        "# from numpy.ndarray\n",
        "a = np.array([\n",
        "    [1, 2, 3],\n",
        "    [4, 5, 6],\n",
        "])\n",
        "torch.tensor(a)"
      ],
      "metadata": {
        "id": "68SDOJ52GflD"
      },
      "execution_count": null,
      "outputs": []
    },
    {
      "cell_type": "markdown",
      "source": [
        "#### Tensor.dtype (data type)\n",
        "\n",
        "**Float**\n",
        "\n",
        "32-bit floating point: **torch.float**, torch.float32\n",
        "\n",
        "16-bit floating point: **torch.half**, torch.float16\n",
        "\n",
        "64-bit floating point: **torch.double**, torch.float64\n",
        "\n",
        "**Integer**\n",
        "\n",
        "32-bit integer (signed): torch.int32, **torch.int**\n",
        "\n",
        "64-bit integer (signed): torch.int64, **torch.long**\n",
        "\n",
        "8-bit integer (unsigned): torch.uint8\n",
        "\n",
        "8-bit integer (signed): torch.int8\n",
        "\n",
        "16-bit integer (signed): torch.int16, torch.short\n",
        "\n",
        "**Others**\n",
        "\n",
        "Boolean: torch.bool\n"
      ],
      "metadata": {
        "id": "M5615VLuHcTl"
      }
    },
    {
      "cell_type": "code",
      "source": [
        "a = torch.tensor([\n",
        "    [1., -1.],\n",
        "    [1., -1.]\n",
        "])\n",
        "\n",
        "print(a.dtype)\n",
        "print(a)"
      ],
      "metadata": {
        "id": "DCb4I_bVHhWp"
      },
      "execution_count": null,
      "outputs": []
    },
    {
      "cell_type": "code",
      "source": [
        "a = torch.tensor([\n",
        "    [1., -1.],\n",
        "    [1., -1.]\n",
        "], dtype=torch.int)\n",
        "\n",
        "print(a)"
      ],
      "metadata": {
        "id": "axM6gjJiJRbT"
      },
      "execution_count": null,
      "outputs": []
    },
    {
      "cell_type": "code",
      "source": [
        "a = torch.tensor([\n",
        "    [1., 0.],\n",
        "    [1., 0.]\n",
        "], dtype=torch.bool)\n",
        "\n",
        "print(a)"
      ],
      "metadata": {
        "id": "7DaETWq6JnV7"
      },
      "execution_count": null,
      "outputs": []
    },
    {
      "cell_type": "markdown",
      "source": [
        "#### torch.Tensor device\n",
        "\n",
        "張量可以放在不同裝置上計算，以下是常見的裝置\n",
        "\n",
        "**'cpu'**: CPU only\n",
        "\n",
        "**'cuda'**: nVidia GPU\n",
        "\n",
        "**'mps'**: MacOS GPU"
      ],
      "metadata": {
        "id": "LEIJQ3CjJ6kk"
      }
    },
    {
      "cell_type": "code",
      "source": [
        "print(torch.device('cuda:0'))\n",
        "print(torch.device('cuda'))  # current cuda device\n",
        "print(torch.device('cpu'))"
      ],
      "metadata": {
        "id": "yuyBXqVgKVTQ"
      },
      "execution_count": null,
      "outputs": []
    },
    {
      "cell_type": "code",
      "source": [
        "# 是否有cuda可用\n",
        "print(\"With nVidia GPU? :\", torch.cuda.is_available())"
      ],
      "metadata": {
        "id": "HdGtqlvSKoIq"
      },
      "execution_count": null,
      "outputs": []
    },
    {
      "cell_type": "code",
      "source": [
        "# For nVidia GPU\n",
        "device = 'cuda' if torch.cuda.is_available() else 'cpu'\n",
        "\n",
        "# For MacOS GPU: Metal Performance Shaders\n",
        "device = 'mps' if torch.backends.mps.is_available() else 'cpu'\n",
        "\n",
        "print('current device: ', device)"
      ],
      "metadata": {
        "id": "bZ8fQ0xsKxzH"
      },
      "execution_count": null,
      "outputs": []
    },
    {
      "cell_type": "markdown",
      "source": [
        "#### Change tensor dtype and device\n",
        "\n",
        ".to(dtype)\n",
        "\n",
        ".to(device)"
      ],
      "metadata": {
        "id": "d4XR9tX7LOJe"
      }
    },
    {
      "cell_type": "code",
      "source": [
        "# dtype\n",
        "a = torch.tensor([\n",
        "    [1., -1.],\n",
        "    [1., -1.]\n",
        "])\n",
        "b = a.to(torch.int)\n",
        "c = a.int()\n",
        "\n",
        "print(a.dtype)\n",
        "print(b.dtype)\n",
        "print(c.dtype)"
      ],
      "metadata": {
        "id": "NVnl4JwGLSP4"
      },
      "execution_count": null,
      "outputs": []
    },
    {
      "cell_type": "code",
      "source": [
        "# device\n",
        "a = torch.tensor([\n",
        "    [1., -1.],\n",
        "    [1., -1.]\n",
        "])\n",
        "print(a.device)\n",
        "\n",
        "# 若有cuda，將a張量移至cuda\n",
        "if torch.cuda.is_available():\n",
        "    b = a.to(\"cuda\")\n",
        "\n",
        "print(b.device)"
      ],
      "metadata": {
        "id": "nLy4ReYNLhft"
      },
      "execution_count": null,
      "outputs": []
    },
    {
      "cell_type": "code",
      "source": [
        "c = a.to(device)\n",
        "c.device"
      ],
      "metadata": {
        "id": "xXq_P8aZlAFU"
      },
      "execution_count": null,
      "outputs": []
    },
    {
      "cell_type": "code",
      "source": [
        "c = a.cuda() # 張量移至cuda\n",
        "d = a.cpu() # 張量移至cpu"
      ],
      "metadata": {
        "id": "YgHjcAOUlvc0"
      },
      "execution_count": null,
      "outputs": []
    },
    {
      "cell_type": "markdown",
      "source": [
        "#### Tensor.**item()**\n",
        "\n",
        "若張量中只有一個數值，可使用item()得到Python純量數值"
      ],
      "metadata": {
        "id": "TwLStDtWLzvc"
      }
    },
    {
      "cell_type": "code",
      "source": [
        "x = torch.tensor([[1]]).item()\n",
        "print(type(x), x, )\n",
        "\n",
        "x = torch.tensor(2.5).item()\n",
        "print(type(x), x)"
      ],
      "metadata": {
        "id": "DJDAdO-lL8eH"
      },
      "execution_count": null,
      "outputs": []
    },
    {
      "cell_type": "markdown",
      "source": [
        "\n",
        "#### Tensor.**numpy()**\n",
        "\n",
        "torch.Tensor to numpy array"
      ],
      "metadata": {
        "id": "tZQBsarrMgUP"
      }
    },
    {
      "cell_type": "code",
      "source": [
        "x = torch.tensor([[1]])\n",
        "print(type(x))\n",
        "\n",
        "y = x.numpy()\n",
        "print(type(y))"
      ],
      "metadata": {
        "id": "6N4_QYYkRqhb"
      },
      "execution_count": null,
      "outputs": []
    },
    {
      "cell_type": "markdown",
      "source": [
        "#### Tensor.**shape**, **.size()**\n",
        "\n",
        "取得張量形狀"
      ],
      "metadata": {
        "id": "XMc41Gd3R4ow"
      }
    },
    {
      "cell_type": "code",
      "source": [
        "a = torch.tensor([\n",
        "    [1., -1., 1.],\n",
        "    [1., -1., 1.]\n",
        "])\n",
        "\n",
        "print(a.shape)\n",
        "print(a.size())\n",
        "\n",
        "print(a.dim())"
      ],
      "metadata": {
        "id": "8mAjPlXmR3_G"
      },
      "execution_count": null,
      "outputs": []
    },
    {
      "cell_type": "markdown",
      "source": [
        "#### Reshape Tensor\n",
        "\n",
        "torch.Tensor.**reshape(), view()**\n",
        "\n",
        "改變張量形狀"
      ],
      "metadata": {
        "id": "vXSue0IuT3ss"
      }
    },
    {
      "cell_type": "code",
      "source": [
        "a = torch.tensor([\n",
        "    [0, 1, 2],\n",
        "    [3, 4, 5]\n",
        "])\n",
        "print(a.shape)\n",
        "\n",
        "b = a.reshape(3, 2)\n",
        "print(b.shape)\n",
        "\n",
        "c = a.view(3, 2)\n",
        "print(c.shape)\n",
        "\n",
        "d = a.reshape(-1, 2)\n",
        "print(d.shape)"
      ],
      "metadata": {
        "id": "Oht4yo_RT-of"
      },
      "execution_count": null,
      "outputs": []
    },
    {
      "cell_type": "markdown",
      "source": [
        "**squeeze(), unsqueeze()**\n",
        "\n",
        "插入/移除某個維度，該維度大小為/必須為1"
      ],
      "metadata": {
        "id": "ej66aSbWVSa4"
      }
    },
    {
      "cell_type": "code",
      "source": [
        "a = torch.tensor([\n",
        "    [0, 1, 2],\n",
        "    [3, 4, 5]\n",
        "])\n",
        "print(a.shape)\n",
        "\n",
        "b = a.reshape(2, 1, 3)\n",
        "print(b.shape)\n",
        "\n",
        "c = b.squeeze(dim=1)\n",
        "print(c.shape)\n",
        "\n",
        "d = c.unsqueeze(-1)\n",
        "print(d.shape)"
      ],
      "metadata": {
        "id": "vUmdAa8eXhtO"
      },
      "execution_count": null,
      "outputs": []
    },
    {
      "cell_type": "markdown",
      "source": [
        "**permute()**\n",
        "\n",
        "重新排列維度順序"
      ],
      "metadata": {
        "id": "j_4Cwp9zX9G5"
      }
    },
    {
      "cell_type": "code",
      "source": [
        "a = torch.ones((50, 100, 3))\n",
        "print('a.shape: ', a.shape)\n",
        "\n",
        "b = a.permute(0, 2, 1)\n",
        "print(\"permute(0, 2, 1) -> \", b.shape)\n",
        "\n",
        "c = b.permute(2, 0, 1)\n",
        "print(\"permute(2, 0, 1) -> \", c.shape)"
      ],
      "metadata": {
        "id": "khnKUBXJYAy1"
      },
      "execution_count": null,
      "outputs": []
    },
    {
      "cell_type": "markdown",
      "source": [
        "#### More Initialization\n",
        "\n",
        "初始化"
      ],
      "metadata": {
        "id": "0ufLQWFCZCtv"
      }
    },
    {
      "cell_type": "code",
      "source": [
        "a = torch.ones((2, 4), dtype=torch.int)\n",
        "print(a)"
      ],
      "metadata": {
        "id": "sn-p1q8RZGBB"
      },
      "execution_count": null,
      "outputs": []
    },
    {
      "cell_type": "code",
      "source": [
        "a = torch.zeros((2, 4), dtype=torch.int)\n",
        "print(a)"
      ],
      "metadata": {
        "id": "Vk8Vu0pmZVFp"
      },
      "execution_count": null,
      "outputs": []
    },
    {
      "cell_type": "code",
      "source": [
        "a = torch.full((3, 4), 5566.)\n",
        "print(a)"
      ],
      "metadata": {
        "id": "DNeKHf_hZitv"
      },
      "execution_count": null,
      "outputs": []
    },
    {
      "cell_type": "code",
      "source": [
        "torch.arange(0, 10)"
      ],
      "metadata": {
        "id": "Qdqn7mnRr4UO"
      },
      "execution_count": null,
      "outputs": []
    },
    {
      "cell_type": "markdown",
      "source": [
        "#### Random Initialization\n",
        "\n",
        "隨機初始化"
      ],
      "metadata": {
        "id": "oChrX7DvZ39R"
      }
    },
    {
      "cell_type": "code",
      "source": [
        "# 常態分佈, mean=0, std=1.\n",
        "a = torch.randn((3, 2))\n",
        "print(a)"
      ],
      "metadata": {
        "id": "3ebK5VDvZ6mJ"
      },
      "execution_count": null,
      "outputs": []
    },
    {
      "cell_type": "code",
      "source": [
        "# 常態分佈指定 mean, std\n",
        "a = torch.normal(mean=0, std=1, size=(3, 2))\n",
        "print(a)"
      ],
      "metadata": {
        "id": "kTlZPYlfaLkG"
      },
      "execution_count": null,
      "outputs": []
    },
    {
      "cell_type": "code",
      "source": [
        "# 均勻分佈uniform distribution: 0~1\n",
        "a = torch.rand((3, 2))\n",
        "print(a)"
      ],
      "metadata": {
        "id": "qr8jL7FfaaSD"
      },
      "execution_count": null,
      "outputs": []
    },
    {
      "cell_type": "code",
      "source": [
        "# 隨機整數\n",
        "a = torch.randint(1, 7, (30,))\n",
        "print(a)"
      ],
      "metadata": {
        "id": "3zmlzseVaxo8"
      },
      "execution_count": null,
      "outputs": []
    },
    {
      "cell_type": "markdown",
      "metadata": {
        "id": "6HNO1i3k_L3v"
      },
      "source": [
        "### Tensor Indexing\n",
        "\n",
        "張量索引"
      ]
    },
    {
      "cell_type": "code",
      "metadata": {
        "id": "3hqgwc9x-3aH"
      },
      "source": [
        "x = torch.Tensor([\n",
        "    [[1, 2], [3, 4]],\n",
        "    [[5, 6], [7, 8]],\n",
        "    [[9, 10], [11, 12]]\n",
        "])\n",
        "print(x, x.shape)"
      ],
      "execution_count": null,
      "outputs": []
    },
    {
      "cell_type": "code",
      "metadata": {
        "id": "frNmH4YY_RBb"
      },
      "source": [
        "# Access the 0th element, which is the first row\n",
        "x[0] # Equivalent to x[0, :]"
      ],
      "execution_count": null,
      "outputs": []
    },
    {
      "cell_type": "code",
      "metadata": {
        "id": "g2QrpBjS_Sz5"
      },
      "source": [
        "# Get the top left element of each element in our tensor\n",
        "x[:, 0, 0]"
      ],
      "execution_count": null,
      "outputs": []
    },
    {
      "cell_type": "code",
      "metadata": {
        "id": "83td2SEg_Vo9"
      },
      "source": [
        "# use item() to convert to Python scalar\n",
        "x[0, 0, 0], x[0, 0, 0].item()"
      ],
      "execution_count": null,
      "outputs": []
    },
    {
      "cell_type": "markdown",
      "metadata": {
        "id": "iee8fqnZ_00Q"
      },
      "source": [
        "## Operations\n",
        "\n",
        "張量計算"
      ]
    },
    {
      "cell_type": "code",
      "metadata": {
        "id": "tTyMyFBr_gme"
      },
      "source": [
        "# Create an example tensor\n",
        "x = torch.ones((3, 2, 2))\n",
        "x"
      ],
      "execution_count": null,
      "outputs": []
    },
    {
      "cell_type": "code",
      "metadata": {
        "id": "hEGNhhiG_4Qc"
      },
      "source": [
        "# elementwise addition\n",
        "x + 5566"
      ],
      "execution_count": null,
      "outputs": []
    },
    {
      "cell_type": "code",
      "metadata": {
        "id": "Am8ebYaH_6QV"
      },
      "source": [
        "# elementwise multiplication\n",
        "x * 2"
      ],
      "execution_count": null,
      "outputs": []
    },
    {
      "cell_type": "code",
      "metadata": {
        "id": "wq1-it71AAuT"
      },
      "source": [
        "# Broadcasting 張量傳播機制\n",
        "c = a / b\n",
        "c, c.shape"
      ],
      "execution_count": null,
      "outputs": []
    },
    {
      "cell_type": "markdown",
      "source": [
        "Tensor.mean(dim)"
      ],
      "metadata": {
        "id": "iTyDuJTZtAI6"
      }
    },
    {
      "cell_type": "code",
      "metadata": {
        "id": "zqZTw_kWAEL2"
      },
      "source": [
        "m = torch.tensor(\n",
        "    [\n",
        "     [1., 1.],\n",
        "     [2., 2.],\n",
        "     [3., 3.],\n",
        "     [4., 4.]\n",
        "    ]\n",
        ")\n",
        "print(\"shape, \", m.shape)\n",
        "print(f\"Mean: {m.mean()}\")\n",
        "print(f\"Mean in the 0th dimension: {m.mean(0)}, shape: {m.mean(0).shape}\")\n",
        "print(f\"Mean in the 1st dimension: {m.mean(1)}, shape: {m.mean(1).shape}\")"
      ],
      "execution_count": null,
      "outputs": []
    },
    {
      "cell_type": "markdown",
      "source": [
        "張量疊加"
      ],
      "metadata": {
        "id": "fr_anF9riKuS"
      }
    },
    {
      "cell_type": "code",
      "metadata": {
        "id": "6EgYZDuZATdU"
      },
      "source": [
        "# Concatenate in dimension 0 and 1\n",
        "a = torch.ones((4, 3))\n",
        "a_cat0 = torch.cat([a, a, a], dim=0)\n",
        "a_cat1 = torch.cat([a, a, a], dim=1)\n",
        "\n",
        "print(f\"Initial shape: {a.shape}\")\n",
        "print(f\"Shape after concatenation in dimension 0: {a_cat0.shape}\")\n",
        "print(f\"Shape after concatenation in dimension 1: {a_cat1.shape}\")"
      ],
      "execution_count": null,
      "outputs": []
    },
    {
      "cell_type": "markdown",
      "source": [
        "argmax, argmin: 取得最大/最小索引值"
      ],
      "metadata": {
        "id": "ia3NwGoDifBu"
      }
    },
    {
      "cell_type": "code",
      "metadata": {
        "id": "OWDOqdegAv4E"
      },
      "source": [
        "a = torch.randint(0, 6, (4, 4))\n",
        "print(a)\n",
        "print(torch.argmax(a, dim=1))"
      ],
      "execution_count": null,
      "outputs": []
    },
    {
      "cell_type": "markdown",
      "source": [
        "matplotlib可直接對torch張量做繪圖，亦可轉成np.ndarray再繪圖"
      ],
      "metadata": {
        "id": "H0_fc9c2iksl"
      }
    },
    {
      "cell_type": "code",
      "source": [
        "import matplotlib.pyplot as plt"
      ],
      "metadata": {
        "id": "s7cmAJkSszNd"
      },
      "execution_count": null,
      "outputs": []
    },
    {
      "cell_type": "code",
      "source": [
        "a = torch.randint(0, 10, (100,))\n",
        "\n",
        "plt.plot(a.numpy())\n",
        "plt.show()"
      ],
      "metadata": {
        "id": "EGxKiKOCrHf-"
      },
      "execution_count": null,
      "outputs": []
    },
    {
      "cell_type": "code",
      "source": [
        "a = torch.randint(0, 256, (10, 10, 3))\n",
        "\n",
        "plt.imshow(a)\n",
        "plt.show()"
      ],
      "metadata": {
        "id": "0izA2WQPtFdd"
      },
      "execution_count": null,
      "outputs": []
    }
  ]
}