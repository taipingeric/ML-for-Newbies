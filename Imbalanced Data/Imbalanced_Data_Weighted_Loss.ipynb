{
  "nbformat": 4,
  "nbformat_minor": 0,
  "metadata": {
    "colab": {
      "private_outputs": true,
      "provenance": []
    },
    "kernelspec": {
      "name": "python3",
      "display_name": "Python 3"
    },
    "language_info": {
      "name": "python"
    }
  },
  "cells": [
    {
      "cell_type": "markdown",
      "source": [
        "# Imbalanced Data: Weighted Loss\n",
        "\n",
        "假設我們有一個不平衡的資料集，總共有10筆資料\n",
        "\n",
        "類別分佈：class 0: 80%, class 1: 20%"
      ],
      "metadata": {
        "id": "e5eF174E2Lkq"
      }
    },
    {
      "cell_type": "code",
      "source": [
        "import torch\n",
        "import matplotlib.pyplot as plt"
      ],
      "metadata": {
        "id": "0y_LYdLG3ras"
      },
      "execution_count": null,
      "outputs": []
    },
    {
      "cell_type": "code",
      "source": [
        "# 假設logits預測值，根據類別分佈生成\n",
        "# 對應機率值 [0.8, 0.2], [0.2, 0.8]\n",
        "pred_class0_logit = torch.tensor([[0.6931, -0.6931]] * 8)  # 類別 0 的 logits\n",
        "pred_class1_logit = torch.tensor([[-0.6931, 0.6931]] * 2)  # 類別 1 的 logits\n",
        "pred_logits = torch.cat([pred_class0_logit, pred_class1_logit], dim=0)\n",
        "\n",
        "# 解答\n",
        "labels0 = torch.tensor([0] * 8)\n",
        "labels1 = torch.tensor([1] * 2)\n",
        "labels = torch.cat([labels0, labels1], dim=0)"
      ],
      "metadata": {
        "id": "Lkou-9KJ2OH5"
      },
      "execution_count": null,
      "outputs": []
    },
    {
      "cell_type": "code",
      "source": [
        "pred_logits.shape, labels.shape"
      ],
      "metadata": {
        "id": "gYQUzsXk3tfX"
      },
      "execution_count": null,
      "outputs": []
    },
    {
      "cell_type": "code",
      "source": [
        "loss_fn = torch.nn.CrossEntropyLoss(reduction=\"sum\")\n",
        "loss0 = loss_fn(pred_class0_logit, labels0)\n",
        "loss1 = loss_fn(pred_class1_logit, labels1)\n",
        "\n",
        "loss0, loss1"
      ],
      "metadata": {
        "id": "5YaQZ2EA3wv4"
      },
      "execution_count": null,
      "outputs": []
    },
    {
      "cell_type": "code",
      "source": [
        "def plot_loss(losses):\n",
        "    plt.figure(figsize=(2, 3))\n",
        "    plt.bar([\"class0\", \"class1\"],\n",
        "            height=losses)\n",
        "    plt.ylabel(\"loss\")\n",
        "    plt.title(\"Total Loss\")\n",
        "    plt.show()"
      ],
      "metadata": {
        "id": "076NkYJL4N-V"
      },
      "execution_count": null,
      "outputs": []
    },
    {
      "cell_type": "code",
      "source": [
        "plot_loss([loss0, loss1])"
      ],
      "metadata": {
        "id": "Zqv2s5BF6R2v"
      },
      "execution_count": null,
      "outputs": []
    },
    {
      "cell_type": "markdown",
      "source": [
        "Weighted CrossEntropyLoss\n",
        "\n",
        "https://pytorch.org/docs/stable/generated/torch.nn.CrossEntropyLoss.html\n",
        "```python\n",
        "torch.nn.CrossEntropyLoss(weight: torch.Tensor)\n",
        "```"
      ],
      "metadata": {
        "id": "WjwdGhes5eOj"
      }
    },
    {
      "cell_type": "code",
      "source": [
        "basic_ce = torch.nn.CrossEntropyLoss(weight=None, reduction=\"sum\")"
      ],
      "metadata": {
        "id": "jmQW8kwt6noL"
      },
      "execution_count": null,
      "outputs": []
    },
    {
      "cell_type": "code",
      "source": [
        "# Custom Weighted Cross EntropyLoss\n",
        "weight = torch.tensor([0.6, 1.5])\n",
        "weight_ce = torch.nn.CrossEntropyLoss(\n",
        "    weight=weight,\n",
        "    reduction=\"sum\"\n",
        ")\n",
        "\n",
        "loss0 = weight_ce(pred_class0_logit, labels0)\n",
        "loss1 = weight_ce(pred_class1_logit, labels1)\n",
        "\n",
        "plot_loss([loss0, loss1])"
      ],
      "metadata": {
        "id": "v4Y17uLG5AVh"
      },
      "execution_count": null,
      "outputs": []
    },
    {
      "cell_type": "markdown",
      "source": [
        "某公式"
      ],
      "metadata": {
        "id": "fvYw4xSS_5Gj"
      }
    },
    {
      "cell_type": "code",
      "source": [
        "class_counts = torch.tensor([8, 2], dtype=torch.float)\n",
        "total_samples = class_counts.sum() # 資料總數"
      ],
      "metadata": {
        "id": "t8NqOeWd6EZt"
      },
      "execution_count": null,
      "outputs": []
    },
    {
      "cell_type": "code",
      "source": [
        "# 平均狀態下，每個類別應該有多少筆資料\n",
        "avg_samples_per_class = total_samples / 2\n",
        "avg_samples_per_class"
      ],
      "metadata": {
        "id": "AqTFnmiL62L7"
      },
      "execution_count": null,
      "outputs": []
    },
    {
      "cell_type": "code",
      "source": [
        "# 平均數量 / 各類別數量\n",
        "# 資料超過平均越多，weight越低\n",
        "# 資料少於平均越多，weight越高\n",
        "weight = avg_samples_per_class / class_counts\n",
        "weight"
      ],
      "metadata": {
        "id": "QXmkoIgm68Y0"
      },
      "execution_count": null,
      "outputs": []
    },
    {
      "cell_type": "code",
      "source": [
        "device = \"cuda\" if torch.cuda.is_available() else \"cpu\"\n",
        "weight = weight.to(device)\n",
        "\n",
        "weight_ce = torch.nn.CrossEntropyLoss(\n",
        "    weight=weight,\n",
        "    reduction=\"sum\"\n",
        ")\n",
        "loss0 = weight_ce(pred_class0_logit, labels0)\n",
        "loss1 = weight_ce(pred_class1_logit, labels1)\n",
        "\n",
        "plot_loss([loss0, loss1])"
      ],
      "metadata": {
        "id": "pRSIBig97GAG"
      },
      "execution_count": null,
      "outputs": []
    },
    {
      "cell_type": "code",
      "source": [],
      "metadata": {
        "id": "WSX1VOL67O1O"
      },
      "execution_count": null,
      "outputs": []
    }
  ]
}