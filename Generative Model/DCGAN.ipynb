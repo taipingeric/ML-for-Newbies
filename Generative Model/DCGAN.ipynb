{
 "cells": [
  {
   "cell_type": "code",
   "execution_count": 1,
   "id": "2adaa2bd",
   "metadata": {},
   "outputs": [],
   "source": [
    "import os\n",
    "import random\n",
    "import torch\n",
    "import torch.nn as nn\n",
    "import torch.nn.parallel\n",
    "import torch.backends.cudnn as cudnn\n",
    "import torch.optim as optim\n",
    "import torch.utils.data\n",
    "import torchvision.datasets as dset\n",
    "import torchvision.transforms as transforms\n",
    "import torchvision.utils as vutils\n",
    "\n",
    "from tqdm.auto import tqdm"
   ]
  },
  {
   "cell_type": "code",
   "execution_count": 2,
   "id": "89c6105d",
   "metadata": {},
   "outputs": [
    {
     "name": "stdout",
     "output_type": "stream",
     "text": [
      "device: cuda\n",
      "Random Seed:  2689\n"
     ]
    },
    {
     "data": {
      "text/plain": [
       "<torch._C.Generator at 0x7f8739c8bed0>"
      ]
     },
     "execution_count": 2,
     "metadata": {},
     "output_type": "execute_result"
    }
   ],
   "source": [
    "DATASET = \"mnist\" # 'cifar10 | lsun | mnist |imagenet | folder | lfw | fake'\n",
    "DATAROOT = \"\"\n",
    "outf = \"./dcgan\" # folder to output images and model checkpoints\n",
    "WORKERS = 2\n",
    "BS = 64\n",
    "IMG_SIZE = 64\n",
    "EPOCHS = 25\n",
    "\n",
    "nz = 100 # size of the latent z vector\n",
    "ngf = 64\n",
    "ndf = 64\n",
    "\n",
    "lr = 0.0002\n",
    "beta1 = 0.5\n",
    "\n",
    "device = \"cuda\" if torch.cuda.is_available() else \"cpu\"\n",
    "print(f\"device: {device}\")\n",
    "ngpu = 1\n",
    "\n",
    "try:\n",
    "    os.makedirs(outf)\n",
    "except OSError:\n",
    "    pass\n",
    "\n",
    "manualSeed = random.randint(1, 10000)\n",
    "print(\"Random Seed: \", manualSeed)\n",
    "random.seed(manualSeed)\n",
    "torch.manual_seed(manualSeed)"
   ]
  },
  {
   "cell_type": "code",
   "execution_count": 3,
   "id": "6231bbc3",
   "metadata": {},
   "outputs": [],
   "source": [
    "if DATAROOT is None and str(DATASET).lower() != 'fake':\n",
    "    raise ValueError(\"`dataroot` parameter is required for dataset \\\"%s\\\"\" % DATASET)\n",
    "\n",
    "if DATASET == 'mnist':\n",
    "    dataset = dset.MNIST(root=DATAROOT, download=True,\n",
    "                       transform=transforms.Compose([\n",
    "                           transforms.Resize(IMG_SIZE),\n",
    "                           transforms.ToTensor(),\n",
    "                           transforms.Normalize((0.5,), (0.5,)),\n",
    "                       ]))\n",
    "    nc=1\n",
    "elif DATASET == 'cifar10':\n",
    "    dataset = dset.CIFAR10(root=DATAROOT, download=True,\n",
    "                           transform=transforms.Compose([\n",
    "                               transforms.Resize(IMG_SIZE),\n",
    "                               transforms.ToTensor(),\n",
    "                               transforms.Normalize((0.5, 0.5, 0.5), (0.5, 0.5, 0.5)),\n",
    "                           ]))\n",
    "    nc=3\n",
    "else:\n",
    "    raise AssertionError(f\"Not implemented dataset: {DATASET}!\")\n",
    "assert dataset\n",
    "\n",
    "dataloader = torch.utils.data.DataLoader(dataset, batch_size=BS,\n",
    "                                         shuffle=True, num_workers=WORKERS)"
   ]
  },
  {
   "cell_type": "code",
   "execution_count": 4,
   "id": "74716ef1",
   "metadata": {},
   "outputs": [
    {
     "data": {
      "text/plain": [
       "Generator(\n",
       "  (main): Sequential(\n",
       "    (0): ConvTranspose2d(100, 512, kernel_size=(4, 4), stride=(1, 1), bias=False)\n",
       "    (1): BatchNorm2d(512, eps=1e-05, momentum=0.1, affine=True, track_running_stats=True)\n",
       "    (2): ReLU(inplace=True)\n",
       "    (3): ConvTranspose2d(512, 256, kernel_size=(4, 4), stride=(2, 2), padding=(1, 1), bias=False)\n",
       "    (4): BatchNorm2d(256, eps=1e-05, momentum=0.1, affine=True, track_running_stats=True)\n",
       "    (5): ReLU(inplace=True)\n",
       "    (6): ConvTranspose2d(256, 128, kernel_size=(4, 4), stride=(2, 2), padding=(1, 1), bias=False)\n",
       "    (7): BatchNorm2d(128, eps=1e-05, momentum=0.1, affine=True, track_running_stats=True)\n",
       "    (8): ReLU(inplace=True)\n",
       "    (9): ConvTranspose2d(128, 64, kernel_size=(4, 4), stride=(2, 2), padding=(1, 1), bias=False)\n",
       "    (10): BatchNorm2d(64, eps=1e-05, momentum=0.1, affine=True, track_running_stats=True)\n",
       "    (11): ReLU(inplace=True)\n",
       "    (12): ConvTranspose2d(64, 1, kernel_size=(4, 4), stride=(2, 2), padding=(1, 1), bias=False)\n",
       "    (13): Tanh()\n",
       "  )\n",
       ")"
      ]
     },
     "execution_count": 4,
     "metadata": {},
     "output_type": "execute_result"
    }
   ],
   "source": [
    "# custom weights initialization for netG and netD\n",
    "def weights_init(m):\n",
    "    classname = m.__class__.__name__\n",
    "    if classname.find('Conv') != -1:\n",
    "        torch.nn.init.normal_(m.weight, 0.0, 0.02)\n",
    "    elif classname.find('BatchNorm') != -1:\n",
    "        torch.nn.init.normal_(m.weight, 1.0, 0.02)\n",
    "        torch.nn.init.zeros_(m.bias)\n",
    "\n",
    "\n",
    "'''\n",
    "Generator\n",
    "\n",
    "input: z (nz)\n",
    "output: fake image (nc, IMG_SIZE, IMG_SIZE)\n",
    "'''\n",
    "class Generator(nn.Module):\n",
    "    def __init__(self, nz, ngf):\n",
    "        super(Generator, self).__init__()\n",
    "        self.main = nn.Sequential(\n",
    "            # input is Z, going into a convolution\n",
    "            nn.ConvTranspose2d(nz, ngf * 8, 4, 1, 0, bias=False),\n",
    "            nn.BatchNorm2d(ngf * 8),\n",
    "            nn.ReLU(True),\n",
    "            # state size. (ngf*8) x 4 x 4\n",
    "            nn.ConvTranspose2d(ngf * 8, ngf * 4, 4, 2, 1, bias=False),\n",
    "            nn.BatchNorm2d(ngf * 4),\n",
    "            nn.ReLU(True),\n",
    "            # state size. (ngf*4) x 8 x 8\n",
    "            nn.ConvTranspose2d(ngf * 4, ngf * 2, 4, 2, 1, bias=False),\n",
    "            nn.BatchNorm2d(ngf * 2),\n",
    "            nn.ReLU(True),\n",
    "            # state size. (ngf*2) x 16 x 16\n",
    "            nn.ConvTranspose2d(ngf * 2, ngf, 4, 2, 1, bias=False),\n",
    "            nn.BatchNorm2d(ngf),\n",
    "            nn.ReLU(True),\n",
    "            # state size. (ngf) x 32 x 32\n",
    "            nn.ConvTranspose2d(ngf, nc, 4, 2, 1, bias=False),\n",
    "            nn.Tanh()\n",
    "            # state size. (nc) x 64 x 64\n",
    "        )\n",
    "\n",
    "    def forward(self, inputs):\n",
    "        output = self.main(inputs)\n",
    "        return output\n",
    "\n",
    "\n",
    "netG = Generator(nz, ngf).to(device)\n",
    "netG.apply(weights_init)"
   ]
  },
  {
   "cell_type": "code",
   "execution_count": 5,
   "id": "7b6f7486",
   "metadata": {},
   "outputs": [
    {
     "data": {
      "text/plain": [
       "Discriminator(\n",
       "  (main): Sequential(\n",
       "    (0): Conv2d(1, 64, kernel_size=(4, 4), stride=(2, 2), padding=(1, 1), bias=False)\n",
       "    (1): LeakyReLU(negative_slope=0.2, inplace=True)\n",
       "    (2): Conv2d(64, 128, kernel_size=(4, 4), stride=(2, 2), padding=(1, 1), bias=False)\n",
       "    (3): BatchNorm2d(128, eps=1e-05, momentum=0.1, affine=True, track_running_stats=True)\n",
       "    (4): LeakyReLU(negative_slope=0.2, inplace=True)\n",
       "    (5): Conv2d(128, 256, kernel_size=(4, 4), stride=(2, 2), padding=(1, 1), bias=False)\n",
       "    (6): BatchNorm2d(256, eps=1e-05, momentum=0.1, affine=True, track_running_stats=True)\n",
       "    (7): LeakyReLU(negative_slope=0.2, inplace=True)\n",
       "    (8): Conv2d(256, 512, kernel_size=(4, 4), stride=(2, 2), padding=(1, 1), bias=False)\n",
       "    (9): BatchNorm2d(512, eps=1e-05, momentum=0.1, affine=True, track_running_stats=True)\n",
       "    (10): LeakyReLU(negative_slope=0.2, inplace=True)\n",
       "    (11): Conv2d(512, 1, kernel_size=(4, 4), stride=(1, 1), bias=False)\n",
       "    (12): Sigmoid()\n",
       "  )\n",
       ")"
      ]
     },
     "execution_count": 5,
     "metadata": {},
     "output_type": "execute_result"
    }
   ],
   "source": [
    "'''\n",
    "Discriminator\n",
    "\n",
    "input: image (nc, IMG_SIZE, IMG_SIZE)\n",
    "output: 0~1 fake or real probability of images\n",
    "'''\n",
    "class Discriminator(nn.Module):\n",
    "    def __init__(self, nc, ndf):\n",
    "        super(Discriminator, self).__init__()\n",
    "        self.main = nn.Sequential(\n",
    "            # input is (nc) x 64 x 64\n",
    "            nn.Conv2d(nc, ndf, 4, 2, 1, bias=False),\n",
    "            nn.LeakyReLU(0.2, inplace=True),\n",
    "            # state size. (ndf) x 32 x 32\n",
    "            nn.Conv2d(ndf, ndf * 2, 4, 2, 1, bias=False),\n",
    "            nn.BatchNorm2d(ndf * 2),\n",
    "            nn.LeakyReLU(0.2, inplace=True),\n",
    "            # state size. (ndf*2) x 16 x 16\n",
    "            nn.Conv2d(ndf * 2, ndf * 4, 4, 2, 1, bias=False),\n",
    "            nn.BatchNorm2d(ndf * 4),\n",
    "            nn.LeakyReLU(0.2, inplace=True),\n",
    "            # state size. (ndf*4) x 8 x 8\n",
    "            nn.Conv2d(ndf * 4, ndf * 8, 4, 2, 1, bias=False),\n",
    "            nn.BatchNorm2d(ndf * 8),\n",
    "            nn.LeakyReLU(0.2, inplace=True),\n",
    "            # state size. (ndf*8) x 4 x 4\n",
    "            nn.Conv2d(ndf * 8, 1, 4, 1, 0, bias=False),\n",
    "            nn.Sigmoid()\n",
    "        )\n",
    "\n",
    "    def forward(self, inputs):\n",
    "        output = self.main(inputs)\n",
    "        return output.view(-1, 1).squeeze(1)\n",
    "\n",
    "\n",
    "netD = Discriminator(nc, ndf).to(device)\n",
    "netD.apply(weights_init)"
   ]
  },
  {
   "cell_type": "code",
   "execution_count": 18,
   "id": "f2b83e42",
   "metadata": {},
   "outputs": [
    {
     "data": {
      "application/vnd.jupyter.widget-view+json": {
       "model_id": "3399c50b533047ca92e8dc6f0f9ded73",
       "version_major": 2,
       "version_minor": 0
      },
      "text/plain": [
       "  0%|          | 0/25 [00:00<?, ?it/s]"
      ]
     },
     "metadata": {},
     "output_type": "display_data"
    },
    {
     "data": {
      "application/vnd.jupyter.widget-view+json": {
       "model_id": "",
       "version_major": 2,
       "version_minor": 0
      },
      "text/plain": [
       "  0%|          | 0/938 [00:00<?, ?it/s]"
      ]
     },
     "metadata": {},
     "output_type": "display_data"
    },
    {
     "name": "stdout",
     "output_type": "stream",
     "text": [
      "[0/25][0/938] Loss_D: 0.1874 Loss_G: 7.3824 D(x): 0.9278 D(G(z)): 0.0910 / 0.0017\n",
      "[0/25][100/938] Loss_D: 0.1248 Loss_G: 4.4520 D(x): 0.9198 D(G(z)): 0.0290 / 0.0173\n",
      "[0/25][200/938] Loss_D: 0.5474 Loss_G: 2.2812 D(x): 0.6554 D(G(z)): 0.0220 / 0.1500\n",
      "[0/25][300/938] Loss_D: 0.0573 Loss_G: 4.8877 D(x): 0.9575 D(G(z)): 0.0125 / 0.0133\n",
      "[0/25][400/938] Loss_D: 1.0803 Loss_G: 0.6335 D(x): 0.4402 D(G(z)): 0.0550 / 0.5937\n",
      "[0/25][500/938] Loss_D: 0.4325 Loss_G: 3.4657 D(x): 0.9411 D(G(z)): 0.2812 / 0.0407\n",
      "[0/25][600/938] Loss_D: 0.0641 Loss_G: 4.4855 D(x): 0.9679 D(G(z)): 0.0294 / 0.0186\n",
      "[0/25][700/938] Loss_D: 0.2797 Loss_G: 2.5574 D(x): 0.8391 D(G(z)): 0.0842 / 0.1066\n",
      "[0/25][800/938] Loss_D: 0.2398 Loss_G: 1.8216 D(x): 0.8114 D(G(z)): 0.0141 / 0.2339\n",
      "[0/25][900/938] Loss_D: 0.2133 Loss_G: 2.7277 D(x): 0.8449 D(G(z)): 0.0323 / 0.0989\n"
     ]
    },
    {
     "data": {
      "application/vnd.jupyter.widget-view+json": {
       "model_id": "",
       "version_major": 2,
       "version_minor": 0
      },
      "text/plain": [
       "  0%|          | 0/938 [00:00<?, ?it/s]"
      ]
     },
     "metadata": {},
     "output_type": "display_data"
    },
    {
     "name": "stdout",
     "output_type": "stream",
     "text": [
      "[1/25][0/938] Loss_D: 0.2967 Loss_G: 3.4160 D(x): 0.8035 D(G(z)): 0.0472 / 0.0612\n",
      "[1/25][100/938] Loss_D: 0.3287 Loss_G: 2.4230 D(x): 0.7811 D(G(z)): 0.0383 / 0.1215\n",
      "[1/25][200/938] Loss_D: 0.0266 Loss_G: 4.5445 D(x): 0.9947 D(G(z)): 0.0208 / 0.0149\n",
      "[1/25][300/938] Loss_D: 0.3312 Loss_G: 3.3129 D(x): 0.8218 D(G(z)): 0.0906 / 0.0648\n",
      "[1/25][400/938] Loss_D: 0.1110 Loss_G: 3.9520 D(x): 0.9590 D(G(z)): 0.0609 / 0.0299\n",
      "[1/25][500/938] Loss_D: 0.0808 Loss_G: 4.0566 D(x): 0.9486 D(G(z)): 0.0254 / 0.0264\n",
      "[1/25][600/938] Loss_D: 0.9001 Loss_G: 1.1847 D(x): 0.7204 D(G(z)): 0.3052 / 0.3689\n",
      "[1/25][700/938] Loss_D: 0.4570 Loss_G: 2.6635 D(x): 0.8655 D(G(z)): 0.2192 / 0.1140\n",
      "[1/25][800/938] Loss_D: 0.0888 Loss_G: 4.3016 D(x): 0.9743 D(G(z)): 0.0525 / 0.0197\n",
      "[1/25][900/938] Loss_D: 0.6200 Loss_G: 1.8820 D(x): 0.6336 D(G(z)): 0.0600 / 0.2012\n"
     ]
    },
    {
     "data": {
      "application/vnd.jupyter.widget-view+json": {
       "model_id": "",
       "version_major": 2,
       "version_minor": 0
      },
      "text/plain": [
       "  0%|          | 0/938 [00:00<?, ?it/s]"
      ]
     },
     "metadata": {},
     "output_type": "display_data"
    },
    {
     "name": "stdout",
     "output_type": "stream",
     "text": [
      "[2/25][0/938] Loss_D: 0.1846 Loss_G: 4.8945 D(x): 0.9828 D(G(z)): 0.1452 / 0.0107\n",
      "[2/25][100/938] Loss_D: 0.3827 Loss_G: 2.8456 D(x): 0.7221 D(G(z)): 0.0145 / 0.0880\n",
      "[2/25][200/938] Loss_D: 0.3669 Loss_G: 6.5143 D(x): 0.9892 D(G(z)): 0.2618 / 0.0021\n",
      "[2/25][300/938] Loss_D: 0.7486 Loss_G: 2.6150 D(x): 0.8030 D(G(z)): 0.3662 / 0.0966\n",
      "[2/25][400/938] Loss_D: 0.0514 Loss_G: 5.0566 D(x): 0.9748 D(G(z)): 0.0247 / 0.0116\n",
      "[2/25][500/938] Loss_D: 0.0325 Loss_G: 5.1051 D(x): 0.9782 D(G(z)): 0.0102 / 0.0084\n",
      "[2/25][600/938] Loss_D: 0.2144 Loss_G: 4.8119 D(x): 0.9817 D(G(z)): 0.1458 / 0.0153\n",
      "[2/25][700/938] Loss_D: 0.8689 Loss_G: 1.2895 D(x): 0.5850 D(G(z)): 0.1728 / 0.3569\n",
      "[2/25][800/938] Loss_D: 0.1191 Loss_G: 4.0955 D(x): 0.9205 D(G(z)): 0.0305 / 0.0247\n",
      "[2/25][900/938] Loss_D: 0.0609 Loss_G: 4.0364 D(x): 0.9687 D(G(z)): 0.0273 / 0.0234\n"
     ]
    },
    {
     "data": {
      "application/vnd.jupyter.widget-view+json": {
       "model_id": "",
       "version_major": 2,
       "version_minor": 0
      },
      "text/plain": [
       "  0%|          | 0/938 [00:00<?, ?it/s]"
      ]
     },
     "metadata": {},
     "output_type": "display_data"
    },
    {
     "name": "stdout",
     "output_type": "stream",
     "text": [
      "[3/25][0/938] Loss_D: 0.4678 Loss_G: 2.8724 D(x): 0.9525 D(G(z)): 0.2999 / 0.0808\n",
      "[3/25][100/938] Loss_D: 0.5123 Loss_G: 1.8822 D(x): 0.7187 D(G(z)): 0.1199 / 0.1955\n",
      "[3/25][200/938] Loss_D: 0.0424 Loss_G: 4.7020 D(x): 0.9692 D(G(z)): 0.0102 / 0.0136\n",
      "[3/25][300/938] Loss_D: 0.4112 Loss_G: 0.5541 D(x): 0.7019 D(G(z)): 0.0148 / 0.6271\n",
      "[3/25][400/938] Loss_D: 0.1741 Loss_G: 3.2338 D(x): 0.9011 D(G(z)): 0.0574 / 0.0647\n",
      "[3/25][500/938] Loss_D: 0.1402 Loss_G: 3.1392 D(x): 0.9018 D(G(z)): 0.0259 / 0.0613\n",
      "[3/25][600/938] Loss_D: 0.0291 Loss_G: 4.7908 D(x): 0.9872 D(G(z)): 0.0158 / 0.0126\n",
      "[3/25][700/938] Loss_D: 0.0366 Loss_G: 4.9906 D(x): 0.9914 D(G(z)): 0.0271 / 0.0104\n",
      "[3/25][800/938] Loss_D: 1.0068 Loss_G: 1.6413 D(x): 0.6122 D(G(z)): 0.3319 / 0.2374\n",
      "[3/25][900/938] Loss_D: 0.3748 Loss_G: 3.8419 D(x): 0.9753 D(G(z)): 0.2611 / 0.0284\n"
     ]
    },
    {
     "data": {
      "application/vnd.jupyter.widget-view+json": {
       "model_id": "",
       "version_major": 2,
       "version_minor": 0
      },
      "text/plain": [
       "  0%|          | 0/938 [00:00<?, ?it/s]"
      ]
     },
     "metadata": {},
     "output_type": "display_data"
    },
    {
     "name": "stdout",
     "output_type": "stream",
     "text": [
      "[4/25][0/938] Loss_D: 0.2186 Loss_G: 3.4065 D(x): 0.8527 D(G(z)): 0.0356 / 0.0575\n",
      "[4/25][100/938] Loss_D: 0.9817 Loss_G: 1.6015 D(x): 0.6416 D(G(z)): 0.3546 / 0.2420\n",
      "[4/25][200/938] Loss_D: 0.2987 Loss_G: 3.1362 D(x): 0.7847 D(G(z)): 0.0270 / 0.0614\n",
      "[4/25][300/938] Loss_D: 0.2276 Loss_G: 5.3467 D(x): 0.9882 D(G(z)): 0.1792 / 0.0063\n",
      "[4/25][400/938] Loss_D: 1.2168 Loss_G: 5.4521 D(x): 0.9239 D(G(z)): 0.5968 / 0.0082\n",
      "[4/25][500/938] Loss_D: 0.1065 Loss_G: 4.1637 D(x): 0.9145 D(G(z)): 0.0118 / 0.0244\n",
      "[4/25][600/938] Loss_D: 0.1350 Loss_G: 3.3826 D(x): 0.9145 D(G(z)): 0.0335 / 0.0548\n",
      "[4/25][700/938] Loss_D: 0.2375 Loss_G: 2.8420 D(x): 0.8168 D(G(z)): 0.0145 / 0.0862\n",
      "[4/25][800/938] Loss_D: 0.0403 Loss_G: 4.6841 D(x): 0.9797 D(G(z)): 0.0179 / 0.0167\n",
      "[4/25][900/938] Loss_D: 0.6991 Loss_G: 2.1831 D(x): 0.8317 D(G(z)): 0.3411 / 0.1583\n"
     ]
    },
    {
     "data": {
      "application/vnd.jupyter.widget-view+json": {
       "model_id": "",
       "version_major": 2,
       "version_minor": 0
      },
      "text/plain": [
       "  0%|          | 0/938 [00:00<?, ?it/s]"
      ]
     },
     "metadata": {},
     "output_type": "display_data"
    },
    {
     "name": "stdout",
     "output_type": "stream",
     "text": [
      "[5/25][0/938] Loss_D: 0.3406 Loss_G: 2.7056 D(x): 0.8059 D(G(z)): 0.0953 / 0.0994\n",
      "[5/25][100/938] Loss_D: 0.0913 Loss_G: 4.0820 D(x): 0.9405 D(G(z)): 0.0264 / 0.0277\n",
      "[5/25][200/938] Loss_D: 0.3728 Loss_G: 2.6755 D(x): 0.8045 D(G(z)): 0.1110 / 0.1031\n",
      "[5/25][300/938] Loss_D: 0.0461 Loss_G: 4.3010 D(x): 0.9758 D(G(z)): 0.0202 / 0.0216\n",
      "[5/25][400/938] Loss_D: 0.1827 Loss_G: 2.2789 D(x): 0.8658 D(G(z)): 0.0272 / 0.1522\n",
      "[5/25][500/938] Loss_D: 0.1099 Loss_G: 3.8758 D(x): 0.9253 D(G(z)): 0.0276 / 0.0284\n",
      "[5/25][600/938] Loss_D: 0.0304 Loss_G: 5.2192 D(x): 0.9856 D(G(z)): 0.0153 / 0.0091\n",
      "[5/25][700/938] Loss_D: 0.0447 Loss_G: 4.4427 D(x): 0.9781 D(G(z)): 0.0218 / 0.0176\n",
      "[5/25][800/938] Loss_D: 1.1418 Loss_G: 0.8886 D(x): 0.5540 D(G(z)): 0.3679 / 0.4492\n",
      "[5/25][900/938] Loss_D: 0.5377 Loss_G: 2.9110 D(x): 0.8385 D(G(z)): 0.2502 / 0.0810\n"
     ]
    },
    {
     "data": {
      "application/vnd.jupyter.widget-view+json": {
       "model_id": "",
       "version_major": 2,
       "version_minor": 0
      },
      "text/plain": [
       "  0%|          | 0/938 [00:00<?, ?it/s]"
      ]
     },
     "metadata": {},
     "output_type": "display_data"
    },
    {
     "name": "stdout",
     "output_type": "stream",
     "text": [
      "[6/25][0/938] Loss_D: 2.4176 Loss_G: 1.2159 D(x): 0.1617 D(G(z)): 0.0330 / 0.4549\n",
      "[6/25][100/938] Loss_D: 0.6164 Loss_G: 4.5378 D(x): 0.9293 D(G(z)): 0.3381 / 0.0179\n",
      "[6/25][200/938] Loss_D: 0.2378 Loss_G: 3.0702 D(x): 0.8285 D(G(z)): 0.0329 / 0.0693\n",
      "[6/25][300/938] Loss_D: 0.0265 Loss_G: 5.0738 D(x): 0.9811 D(G(z)): 0.0072 / 0.0094\n",
      "[6/25][400/938] Loss_D: 0.9172 Loss_G: 8.7689 D(x): 0.9693 D(G(z)): 0.5091 / 0.0002\n",
      "[6/25][500/938] Loss_D: 1.9755 Loss_G: 4.3159 D(x): 0.9200 D(G(z)): 0.7562 / 0.0219\n",
      "[6/25][600/938] Loss_D: 0.0375 Loss_G: 4.3719 D(x): 0.9752 D(G(z)): 0.0118 / 0.0180\n",
      "[6/25][700/938] Loss_D: 0.0394 Loss_G: 4.7655 D(x): 0.9733 D(G(z)): 0.0110 / 0.0169\n",
      "[6/25][800/938] Loss_D: 0.1899 Loss_G: 2.9968 D(x): 0.8870 D(G(z)): 0.0583 / 0.0717\n",
      "[6/25][900/938] Loss_D: 0.0867 Loss_G: 4.9472 D(x): 0.9768 D(G(z)): 0.0589 / 0.0117\n"
     ]
    },
    {
     "data": {
      "application/vnd.jupyter.widget-view+json": {
       "model_id": "",
       "version_major": 2,
       "version_minor": 0
      },
      "text/plain": [
       "  0%|          | 0/938 [00:00<?, ?it/s]"
      ]
     },
     "metadata": {},
     "output_type": "display_data"
    },
    {
     "name": "stdout",
     "output_type": "stream",
     "text": [
      "[7/25][0/938] Loss_D: 0.0626 Loss_G: 4.6605 D(x): 0.9790 D(G(z)): 0.0389 / 0.0142\n",
      "[7/25][100/938] Loss_D: 0.0295 Loss_G: 4.7854 D(x): 0.9883 D(G(z)): 0.0174 / 0.0143\n",
      "[7/25][200/938] Loss_D: 0.8722 Loss_G: 1.8959 D(x): 0.6991 D(G(z)): 0.3318 / 0.1858\n",
      "[7/25][300/938] Loss_D: 0.3079 Loss_G: 3.2403 D(x): 0.9228 D(G(z)): 0.1859 / 0.0507\n",
      "[7/25][400/938] Loss_D: 0.6706 Loss_G: 5.1057 D(x): 0.9418 D(G(z)): 0.3768 / 0.0088\n",
      "[7/25][500/938] Loss_D: 0.2687 Loss_G: 2.8106 D(x): 0.8747 D(G(z)): 0.1101 / 0.0866\n",
      "[7/25][600/938] Loss_D: 0.0982 Loss_G: 4.6640 D(x): 0.9860 D(G(z)): 0.0706 / 0.0145\n",
      "[7/25][700/938] Loss_D: 0.0454 Loss_G: 4.7864 D(x): 0.9803 D(G(z)): 0.0244 / 0.0145\n",
      "[7/25][800/938] Loss_D: 0.8443 Loss_G: 1.2999 D(x): 0.6237 D(G(z)): 0.2597 / 0.3035\n",
      "[7/25][900/938] Loss_D: 0.8244 Loss_G: 2.7545 D(x): 0.5333 D(G(z)): 0.0468 / 0.1250\n"
     ]
    },
    {
     "data": {
      "application/vnd.jupyter.widget-view+json": {
       "model_id": "",
       "version_major": 2,
       "version_minor": 0
      },
      "text/plain": [
       "  0%|          | 0/938 [00:00<?, ?it/s]"
      ]
     },
     "metadata": {},
     "output_type": "display_data"
    },
    {
     "name": "stderr",
     "output_type": "stream",
     "text": [
      "Exception ignored in: <function _MultiProcessingDataLoaderIter.__del__ at 0x7f1ec2779cb0>\n",
      "Traceback (most recent call last):\n",
      "  File \"/opt/conda/lib/python3.7/site-packages/torch/utils/data/dataloader.py\", line 1480, in __del__\n",
      "    self._shutdown_workers()\n",
      "  File \"/opt/conda/lib/python3.7/site-packages/torch/utils/data/dataloader.py\", line 1463, in _shutdown_workers\n",
      "    Exception ignored in: if w.is_alive():<function _MultiProcessingDataLoaderIter.__del__ at 0x7f1ec2779cb0>\n",
      "\n",
      "  File \"/opt/conda/lib/python3.7/multiprocessing/process.py\", line 151, in is_alive\n",
      "Traceback (most recent call last):\n",
      "    assert self._parent_pid == os.getpid(), 'can only test a child process'  File \"/opt/conda/lib/python3.7/site-packages/torch/utils/data/dataloader.py\", line 1480, in __del__\n",
      "\n",
      "AssertionError    : self._shutdown_workers()can only test a child process\n",
      "\n",
      "  File \"/opt/conda/lib/python3.7/site-packages/torch/utils/data/dataloader.py\", line 1463, in _shutdown_workers\n",
      "    if w.is_alive():\n",
      "Exception ignored in:   File \"/opt/conda/lib/python3.7/multiprocessing/process.py\", line 151, in is_alive\n",
      "<function _MultiProcessingDataLoaderIter.__del__ at 0x7f1ec2779cb0>\n",
      "    Traceback (most recent call last):\n",
      "assert self._parent_pid == os.getpid(), 'can only test a child process'  File \"/opt/conda/lib/python3.7/site-packages/torch/utils/data/dataloader.py\", line 1480, in __del__\n",
      "\n",
      "AssertionError    : self._shutdown_workers()\n",
      "can only test a child process  File \"/opt/conda/lib/python3.7/site-packages/torch/utils/data/dataloader.py\", line 1463, in _shutdown_workers\n",
      "\n",
      "    if w.is_alive():\n",
      "  File \"/opt/conda/lib/python3.7/multiprocessing/process.py\", line 151, in is_alive\n",
      "    Exception ignored in: assert self._parent_pid == os.getpid(), 'can only test a child process'<function _MultiProcessingDataLoaderIter.__del__ at 0x7f1ec2779cb0>\n",
      "\n",
      "AssertionErrorTraceback (most recent call last):\n",
      ":   File \"/opt/conda/lib/python3.7/site-packages/torch/utils/data/dataloader.py\", line 1480, in __del__\n",
      "can only test a child process\n",
      "    self._shutdown_workers()\n",
      "  File \"/opt/conda/lib/python3.7/site-packages/torch/utils/data/dataloader.py\", line 1463, in _shutdown_workers\n",
      "Exception ignored in:     if w.is_alive():<function _MultiProcessingDataLoaderIter.__del__ at 0x7f1ec2779cb0>\n",
      "\n",
      "  File \"/opt/conda/lib/python3.7/multiprocessing/process.py\", line 151, in is_alive\n",
      "Traceback (most recent call last):\n",
      "      File \"/opt/conda/lib/python3.7/site-packages/torch/utils/data/dataloader.py\", line 1480, in __del__\n",
      "assert self._parent_pid == os.getpid(), 'can only test a child process'    \n",
      "self._shutdown_workers()AssertionError\n",
      ":   File \"/opt/conda/lib/python3.7/site-packages/torch/utils/data/dataloader.py\", line 1463, in _shutdown_workers\n",
      "can only test a child process\n",
      "    if w.is_alive():\n",
      "  File \"/opt/conda/lib/python3.7/multiprocessing/process.py\", line 151, in is_alive\n",
      "    assert self._parent_pid == os.getpid(), 'can only test a child process'Exception ignored in: \n",
      "<function _MultiProcessingDataLoaderIter.__del__ at 0x7f1ec2779cb0>AssertionError\n",
      ": Traceback (most recent call last):\n",
      "can only test a child process  File \"/opt/conda/lib/python3.7/site-packages/torch/utils/data/dataloader.py\", line 1480, in __del__\n",
      "\n",
      "    self._shutdown_workers()\n",
      "  File \"/opt/conda/lib/python3.7/site-packages/torch/utils/data/dataloader.py\", line 1463, in _shutdown_workers\n",
      "    Exception ignored in: if w.is_alive():<function _MultiProcessingDataLoaderIter.__del__ at 0x7f1ec2779cb0>\n",
      "\n",
      "  File \"/opt/conda/lib/python3.7/multiprocessing/process.py\", line 151, in is_alive\n",
      "Traceback (most recent call last):\n",
      "  File \"/opt/conda/lib/python3.7/site-packages/torch/utils/data/dataloader.py\", line 1480, in __del__\n",
      "    assert self._parent_pid == os.getpid(), 'can only test a child process'    \n",
      "self._shutdown_workers()AssertionError\n",
      ":   File \"/opt/conda/lib/python3.7/site-packages/torch/utils/data/dataloader.py\", line 1463, in _shutdown_workers\n",
      "can only test a child process    \n",
      "if w.is_alive():\n",
      "  File \"/opt/conda/lib/python3.7/multiprocessing/process.py\", line 151, in is_alive\n",
      "    assert self._parent_pid == os.getpid(), 'can only test a child process'\n",
      "Exception ignored in: AssertionError<function _MultiProcessingDataLoaderIter.__del__ at 0x7f1ec2779cb0>: \n",
      "can only test a child processTraceback (most recent call last):\n",
      "\n",
      "  File \"/opt/conda/lib/python3.7/site-packages/torch/utils/data/dataloader.py\", line 1480, in __del__\n",
      "    self._shutdown_workers()\n",
      "Exception ignored in:   File \"/opt/conda/lib/python3.7/site-packages/torch/utils/data/dataloader.py\", line 1463, in _shutdown_workers\n",
      "<function _MultiProcessingDataLoaderIter.__del__ at 0x7f1ec2779cb0>\n",
      "    Traceback (most recent call last):\n",
      "if w.is_alive():  File \"/opt/conda/lib/python3.7/site-packages/torch/utils/data/dataloader.py\", line 1480, in __del__\n",
      "\n",
      "  File \"/opt/conda/lib/python3.7/multiprocessing/process.py\", line 151, in is_alive\n",
      "        self._shutdown_workers()assert self._parent_pid == os.getpid(), 'can only test a child process'\n",
      "\n",
      "  File \"/opt/conda/lib/python3.7/site-packages/torch/utils/data/dataloader.py\", line 1463, in _shutdown_workers\n",
      "AssertionError:     can only test a child processif w.is_alive():\n",
      "\n",
      "  File \"/opt/conda/lib/python3.7/multiprocessing/process.py\", line 151, in is_alive\n",
      "    assert self._parent_pid == os.getpid(), 'can only test a child process'\n",
      "AssertionErrorException ignored in: : <function _MultiProcessingDataLoaderIter.__del__ at 0x7f1ec2779cb0>can only test a child process\n",
      "\n",
      "Traceback (most recent call last):\n",
      "  File \"/opt/conda/lib/python3.7/site-packages/torch/utils/data/dataloader.py\", line 1480, in __del__\n",
      "    self._shutdown_workers()Exception ignored in: \n",
      "<function _MultiProcessingDataLoaderIter.__del__ at 0x7f1ec2779cb0>  File \"/opt/conda/lib/python3.7/site-packages/torch/utils/data/dataloader.py\", line 1463, in _shutdown_workers\n",
      "\n",
      "Traceback (most recent call last):\n",
      "      File \"/opt/conda/lib/python3.7/site-packages/torch/utils/data/dataloader.py\", line 1480, in __del__\n",
      "if w.is_alive():    \n",
      "self._shutdown_workers()  File \"/opt/conda/lib/python3.7/multiprocessing/process.py\", line 151, in is_alive\n",
      "\n",
      "      File \"/opt/conda/lib/python3.7/site-packages/torch/utils/data/dataloader.py\", line 1463, in _shutdown_workers\n",
      "assert self._parent_pid == os.getpid(), 'can only test a child process'    \n",
      "if w.is_alive():AssertionError\n",
      ":   File \"/opt/conda/lib/python3.7/multiprocessing/process.py\", line 151, in is_alive\n",
      "can only test a child process    \n",
      "assert self._parent_pid == os.getpid(), 'can only test a child process'\n",
      "AssertionError: can only test a child process\n",
      "Exception ignored in: <function _MultiProcessingDataLoaderIter.__del__ at 0x7f1ec2779cb0>\n",
      "Traceback (most recent call last):\n",
      "Exception ignored in:   File \"/opt/conda/lib/python3.7/site-packages/torch/utils/data/dataloader.py\", line 1480, in __del__\n",
      "<function _MultiProcessingDataLoaderIter.__del__ at 0x7f1ec2779cb0>    \n",
      "self._shutdown_workers()Traceback (most recent call last):\n",
      "\n",
      "  File \"/opt/conda/lib/python3.7/site-packages/torch/utils/data/dataloader.py\", line 1480, in __del__\n",
      "  File \"/opt/conda/lib/python3.7/site-packages/torch/utils/data/dataloader.py\", line 1463, in _shutdown_workers\n",
      "        self._shutdown_workers()if w.is_alive():\n",
      "\n",
      "  File \"/opt/conda/lib/python3.7/multiprocessing/process.py\", line 151, in is_alive\n",
      "  File \"/opt/conda/lib/python3.7/site-packages/torch/utils/data/dataloader.py\", line 1463, in _shutdown_workers\n",
      "    assert self._parent_pid == os.getpid(), 'can only test a child process'\n",
      "    AssertionErrorif w.is_alive():\n",
      ":   File \"/opt/conda/lib/python3.7/multiprocessing/process.py\", line 151, in is_alive\n",
      "can only test a child process\n",
      "    assert self._parent_pid == os.getpid(), 'can only test a child process'\n",
      "AssertionError: Exception ignored in: can only test a child process<function _MultiProcessingDataLoaderIter.__del__ at 0x7f1ec2779cb0>\n",
      "\n",
      "Traceback (most recent call last):\n",
      "  File \"/opt/conda/lib/python3.7/site-packages/torch/utils/data/dataloader.py\", line 1480, in __del__\n",
      "    self._shutdown_workers()\n",
      "  File \"/opt/conda/lib/python3.7/site-packages/torch/utils/data/dataloader.py\", line 1463, in _shutdown_workers\n",
      "Exception ignored in:     <function _MultiProcessingDataLoaderIter.__del__ at 0x7f1ec2779cb0>if w.is_alive():\n",
      "\n",
      "Traceback (most recent call last):\n",
      "  File \"/opt/conda/lib/python3.7/multiprocessing/process.py\", line 151, in is_alive\n",
      "  File \"/opt/conda/lib/python3.7/site-packages/torch/utils/data/dataloader.py\", line 1480, in __del__\n",
      "    assert self._parent_pid == os.getpid(), 'can only test a child process'    \n",
      "self._shutdown_workers()AssertionError\n",
      ":   File \"/opt/conda/lib/python3.7/site-packages/torch/utils/data/dataloader.py\", line 1463, in _shutdown_workers\n",
      "can only test a child process\n",
      "    if w.is_alive():\n",
      "  File \"/opt/conda/lib/python3.7/multiprocessing/process.py\", line 151, in is_alive\n",
      "    assert self._parent_pid == os.getpid(), 'can only test a child process'Exception ignored in: \n",
      "<function _MultiProcessingDataLoaderIter.__del__ at 0x7f1ec2779cb0>AssertionError\n",
      ": Traceback (most recent call last):\n",
      "can only test a child process  File \"/opt/conda/lib/python3.7/site-packages/torch/utils/data/dataloader.py\", line 1480, in __del__\n",
      "\n",
      "    self._shutdown_workers()\n",
      "  File \"/opt/conda/lib/python3.7/site-packages/torch/utils/data/dataloader.py\", line 1463, in _shutdown_workers\n",
      "    if w.is_alive():\n",
      "  File \"/opt/conda/lib/python3.7/multiprocessing/process.py\", line 151, in is_alive\n",
      "    assert self._parent_pid == os.getpid(), 'can only test a child process'\n",
      "AssertionError: can only test a child process\n"
     ]
    },
    {
     "name": "stdout",
     "output_type": "stream",
     "text": [
      "[8/25][0/938] Loss_D: 0.3772 Loss_G: 2.8490 D(x): 0.8288 D(G(z)): 0.1290 / 0.0832\n",
      "[8/25][100/938] Loss_D: 0.0423 Loss_G: 4.3671 D(x): 0.9814 D(G(z)): 0.0227 / 0.0214\n",
      "[8/25][200/938] Loss_D: 0.1534 Loss_G: 4.4958 D(x): 0.9438 D(G(z)): 0.0713 / 0.0183\n",
      "[8/25][300/938] Loss_D: 0.0299 Loss_G: 4.8658 D(x): 0.9845 D(G(z)): 0.0137 / 0.0121\n",
      "[8/25][400/938] Loss_D: 1.0412 Loss_G: 1.7889 D(x): 0.7462 D(G(z)): 0.4484 / 0.2132\n",
      "[8/25][500/938] Loss_D: 1.5198 Loss_G: 1.7409 D(x): 0.8066 D(G(z)): 0.6311 / 0.2246\n",
      "[8/25][600/938] Loss_D: 0.0568 Loss_G: 5.4106 D(x): 0.9892 D(G(z)): 0.0438 / 0.0064\n",
      "[8/25][700/938] Loss_D: 0.0498 Loss_G: 4.3796 D(x): 0.9659 D(G(z)): 0.0140 / 0.0180\n",
      "[8/25][800/938] Loss_D: 0.0159 Loss_G: 5.6101 D(x): 0.9980 D(G(z)): 0.0136 / 0.0059\n",
      "[8/25][900/938] Loss_D: 0.5384 Loss_G: 1.5305 D(x): 0.7891 D(G(z)): 0.2302 / 0.2641\n"
     ]
    },
    {
     "data": {
      "application/vnd.jupyter.widget-view+json": {
       "model_id": "",
       "version_major": 2,
       "version_minor": 0
      },
      "text/plain": [
       "  0%|          | 0/938 [00:00<?, ?it/s]"
      ]
     },
     "metadata": {},
     "output_type": "display_data"
    },
    {
     "name": "stdout",
     "output_type": "stream",
     "text": [
      "[9/25][0/938] Loss_D: 0.3822 Loss_G: 2.5556 D(x): 0.8808 D(G(z)): 0.1946 / 0.1008\n",
      "[9/25][100/938] Loss_D: 0.3148 Loss_G: 3.7871 D(x): 0.9147 D(G(z)): 0.1832 / 0.0300\n",
      "[9/25][200/938] Loss_D: 0.1040 Loss_G: 2.6594 D(x): 0.9113 D(G(z)): 0.0061 / 0.0948\n",
      "[9/25][300/938] Loss_D: 0.0178 Loss_G: 5.5984 D(x): 0.9927 D(G(z)): 0.0102 / 0.0062\n",
      "[9/25][400/938] Loss_D: 1.6951 Loss_G: 2.0526 D(x): 0.2707 D(G(z)): 0.0078 / 0.1849\n",
      "[9/25][500/938] Loss_D: 0.8399 Loss_G: 1.2918 D(x): 0.5131 D(G(z)): 0.0021 / 0.3862\n",
      "[9/25][600/938] Loss_D: 0.0225 Loss_G: 5.0091 D(x): 0.9913 D(G(z)): 0.0134 / 0.0095\n",
      "[9/25][700/938] Loss_D: 0.7172 Loss_G: 2.1415 D(x): 0.6579 D(G(z)): 0.1806 / 0.1744\n",
      "[9/25][800/938] Loss_D: 0.2022 Loss_G: 2.3170 D(x): 0.8392 D(G(z)): 0.0104 / 0.1638\n",
      "[9/25][900/938] Loss_D: 0.0490 Loss_G: 4.7251 D(x): 0.9933 D(G(z)): 0.0388 / 0.0139\n"
     ]
    },
    {
     "name": "stderr",
     "output_type": "stream",
     "text": [
      "Exception ignored in: <function _MultiProcessingDataLoaderIter.__del__ at 0x7f1ec2779cb0>\n",
      "Traceback (most recent call last):\n",
      "  File \"/opt/conda/lib/python3.7/site-packages/torch/utils/data/dataloader.py\", line 1480, in __del__\n",
      "    self._shutdown_workers()\n",
      "  File \"/opt/conda/lib/python3.7/site-packages/torch/utils/data/dataloader.py\", line 1463, in _shutdown_workers\n",
      "    if w.is_alive():\n",
      "  File \"/opt/conda/lib/python3.7/multiprocessing/process.py\", line 151, in is_alive\n",
      "Exception ignored in:     <function _MultiProcessingDataLoaderIter.__del__ at 0x7f1ec2779cb0>assert self._parent_pid == os.getpid(), 'can only test a child process'\n",
      "\n",
      "Traceback (most recent call last):\n",
      "AssertionError  File \"/opt/conda/lib/python3.7/site-packages/torch/utils/data/dataloader.py\", line 1480, in __del__\n",
      ":     can only test a child processself._shutdown_workers()\n",
      "\n",
      "  File \"/opt/conda/lib/python3.7/site-packages/torch/utils/data/dataloader.py\", line 1463, in _shutdown_workers\n",
      "    if w.is_alive():\n",
      "  File \"/opt/conda/lib/python3.7/multiprocessing/process.py\", line 151, in is_alive\n",
      "    assert self._parent_pid == os.getpid(), 'can only test a child process'\n",
      "AssertionError: can only test a child process\n"
     ]
    },
    {
     "data": {
      "application/vnd.jupyter.widget-view+json": {
       "model_id": "",
       "version_major": 2,
       "version_minor": 0
      },
      "text/plain": [
       "  0%|          | 0/938 [00:00<?, ?it/s]"
      ]
     },
     "metadata": {},
     "output_type": "display_data"
    },
    {
     "name": "stdout",
     "output_type": "stream",
     "text": [
      "[10/25][0/938] Loss_D: 0.0246 Loss_G: 4.9990 D(x): 0.9863 D(G(z)): 0.0107 / 0.0105\n",
      "[10/25][100/938] Loss_D: 0.0090 Loss_G: 6.0955 D(x): 0.9972 D(G(z)): 0.0062 / 0.0042\n",
      "[10/25][200/938] Loss_D: 0.0365 Loss_G: 6.6975 D(x): 0.9953 D(G(z)): 0.0305 / 0.0021\n",
      "[10/25][300/938] Loss_D: 0.0139 Loss_G: 6.7655 D(x): 0.9994 D(G(z)): 0.0131 / 0.0020\n",
      "[10/25][400/938] Loss_D: 0.0059 Loss_G: 6.7426 D(x): 0.9996 D(G(z)): 0.0055 / 0.0021\n",
      "[10/25][500/938] Loss_D: 0.0048 Loss_G: 6.7466 D(x): 0.9999 D(G(z)): 0.0047 / 0.0021\n",
      "[10/25][600/938] Loss_D: 0.0031 Loss_G: 6.8819 D(x): 0.9996 D(G(z)): 0.0027 / 0.0013\n",
      "[10/25][700/938] Loss_D: 0.0006 Loss_G: 10.1104 D(x): 0.9995 D(G(z)): 0.0001 / 0.0001\n",
      "[10/25][800/938] Loss_D: 0.0011 Loss_G: 7.9341 D(x): 0.9999 D(G(z)): 0.0010 / 0.0005\n",
      "[10/25][900/938] Loss_D: 0.0007 Loss_G: 8.4159 D(x): 0.9998 D(G(z)): 0.0005 / 0.0003\n"
     ]
    },
    {
     "data": {
      "application/vnd.jupyter.widget-view+json": {
       "model_id": "",
       "version_major": 2,
       "version_minor": 0
      },
      "text/plain": [
       "  0%|          | 0/938 [00:00<?, ?it/s]"
      ]
     },
     "metadata": {},
     "output_type": "display_data"
    },
    {
     "name": "stdout",
     "output_type": "stream",
     "text": [
      "[11/25][0/938] Loss_D: 0.0002 Loss_G: 9.5557 D(x): 0.9999 D(G(z)): 0.0001 / 0.0001\n",
      "[11/25][100/938] Loss_D: 0.0007 Loss_G: 8.6268 D(x): 0.9997 D(G(z)): 0.0005 / 0.0003\n",
      "[11/25][200/938] Loss_D: 0.0004 Loss_G: 8.6390 D(x): 0.9999 D(G(z)): 0.0003 / 0.0003\n",
      "[11/25][300/938] Loss_D: 0.0003 Loss_G: 8.4718 D(x): 1.0000 D(G(z)): 0.0003 / 0.0002\n",
      "[11/25][400/938] Loss_D: 0.0006 Loss_G: 8.3072 D(x): 0.9998 D(G(z)): 0.0004 / 0.0003\n",
      "[11/25][500/938] Loss_D: 0.0019 Loss_G: 7.3755 D(x): 0.9999 D(G(z)): 0.0018 / 0.0006\n",
      "[11/25][600/938] Loss_D: 0.0009 Loss_G: 7.6134 D(x): 0.9996 D(G(z)): 0.0005 / 0.0005\n",
      "[11/25][700/938] Loss_D: 0.0009 Loss_G: 8.9971 D(x): 0.9997 D(G(z)): 0.0007 / 0.0001\n",
      "[11/25][800/938] Loss_D: 0.0004 Loss_G: 8.5923 D(x): 0.9999 D(G(z)): 0.0003 / 0.0002\n",
      "[11/25][900/938] Loss_D: 0.0362 Loss_G: 11.5522 D(x): 0.9816 D(G(z)): 0.0000 / 0.0000\n"
     ]
    },
    {
     "name": "stderr",
     "output_type": "stream",
     "text": [
      "Exception ignored in: <function _MultiProcessingDataLoaderIter.__del__ at 0x7f1ec2779cb0>\n",
      "Traceback (most recent call last):\n",
      "  File \"/opt/conda/lib/python3.7/site-packages/torch/utils/data/dataloader.py\", line 1480, in __del__\n",
      "    self._shutdown_workers()\n",
      "  File \"/opt/conda/lib/python3.7/site-packages/torch/utils/data/dataloader.py\", line 1463, in _shutdown_workers\n",
      "    Exception ignored in: if w.is_alive():<function _MultiProcessingDataLoaderIter.__del__ at 0x7f1ec2779cb0>\n",
      "\n",
      "  File \"/opt/conda/lib/python3.7/multiprocessing/process.py\", line 151, in is_alive\n",
      "Traceback (most recent call last):\n",
      "      File \"/opt/conda/lib/python3.7/site-packages/torch/utils/data/dataloader.py\", line 1480, in __del__\n",
      "assert self._parent_pid == os.getpid(), 'can only test a child process'\n",
      "    AssertionErrorself._shutdown_workers(): \n",
      "can only test a child process  File \"/opt/conda/lib/python3.7/site-packages/torch/utils/data/dataloader.py\", line 1463, in _shutdown_workers\n",
      "\n",
      "    if w.is_alive():\n",
      "  File \"/opt/conda/lib/python3.7/multiprocessing/process.py\", line 151, in is_alive\n",
      "    assert self._parent_pid == os.getpid(), 'can only test a child process'\n",
      "AssertionError: can only test a child process\n"
     ]
    },
    {
     "data": {
      "application/vnd.jupyter.widget-view+json": {
       "model_id": "",
       "version_major": 2,
       "version_minor": 0
      },
      "text/plain": [
       "  0%|          | 0/938 [00:00<?, ?it/s]"
      ]
     },
     "metadata": {},
     "output_type": "display_data"
    },
    {
     "name": "stdout",
     "output_type": "stream",
     "text": [
      "[12/25][0/938] Loss_D: 0.2729 Loss_G: 17.0949 D(x): 1.0000 D(G(z)): 0.2378 / 0.0000\n",
      "[12/25][100/938] Loss_D: 0.0023 Loss_G: 18.8784 D(x): 0.9978 D(G(z)): 0.0000 / 0.0000\n",
      "[12/25][200/938] Loss_D: 0.1867 Loss_G: 4.9155 D(x): 0.9310 D(G(z)): 0.0623 / 0.0125\n",
      "[12/25][300/938] Loss_D: 0.1758 Loss_G: 4.6738 D(x): 0.8837 D(G(z)): 0.0017 / 0.0195\n",
      "[12/25][400/938] Loss_D: 0.0371 Loss_G: 4.8932 D(x): 0.9881 D(G(z)): 0.0234 / 0.0116\n",
      "[12/25][500/938] Loss_D: 0.0158 Loss_G: 7.8497 D(x): 0.9988 D(G(z)): 0.0144 / 0.0007\n",
      "[12/25][600/938] Loss_D: 0.0036 Loss_G: 7.3439 D(x): 0.9993 D(G(z)): 0.0029 / 0.0009\n",
      "[12/25][700/938] Loss_D: 0.0007 Loss_G: 8.5553 D(x): 0.9997 D(G(z)): 0.0003 / 0.0002\n",
      "[12/25][800/938] Loss_D: 0.0015 Loss_G: 7.5635 D(x): 0.9995 D(G(z)): 0.0010 / 0.0006\n",
      "[12/25][900/938] Loss_D: 0.0058 Loss_G: 7.4231 D(x): 0.9965 D(G(z)): 0.0022 / 0.0007\n"
     ]
    },
    {
     "data": {
      "application/vnd.jupyter.widget-view+json": {
       "model_id": "",
       "version_major": 2,
       "version_minor": 0
      },
      "text/plain": [
       "  0%|          | 0/938 [00:00<?, ?it/s]"
      ]
     },
     "metadata": {},
     "output_type": "display_data"
    },
    {
     "name": "stdout",
     "output_type": "stream",
     "text": [
      "[13/25][0/938] Loss_D: 0.0091 Loss_G: 6.6775 D(x): 0.9938 D(G(z)): 0.0025 / 0.0013\n",
      "[13/25][100/938] Loss_D: 0.0000 Loss_G: 9.6023 D(x): 1.0000 D(G(z)): 0.0000 / 0.0001\n",
      "[13/25][200/938] Loss_D: 0.0033 Loss_G: 7.7441 D(x): 0.9995 D(G(z)): 0.0029 / 0.0004\n",
      "[13/25][300/938] Loss_D: 0.0209 Loss_G: 4.8214 D(x): 0.9971 D(G(z)): 0.0177 / 0.0087\n",
      "[13/25][400/938] Loss_D: 0.0207 Loss_G: 6.2676 D(x): 0.9898 D(G(z)): 0.0097 / 0.0020\n",
      "[13/25][500/938] Loss_D: 0.0125 Loss_G: 6.3485 D(x): 0.9990 D(G(z)): 0.0114 / 0.0022\n",
      "[13/25][600/938] Loss_D: 0.0224 Loss_G: 6.3470 D(x): 0.9864 D(G(z)): 0.0056 / 0.0019\n",
      "[13/25][700/938] Loss_D: 0.0189 Loss_G: 5.7465 D(x): 0.9945 D(G(z)): 0.0132 / 0.0035\n",
      "[13/25][800/938] Loss_D: 0.0187 Loss_G: 6.4070 D(x): 0.9894 D(G(z)): 0.0058 / 0.0018\n",
      "[13/25][900/938] Loss_D: 0.0103 Loss_G: 6.4592 D(x): 0.9954 D(G(z)): 0.0054 / 0.0017\n"
     ]
    },
    {
     "data": {
      "application/vnd.jupyter.widget-view+json": {
       "model_id": "",
       "version_major": 2,
       "version_minor": 0
      },
      "text/plain": [
       "  0%|          | 0/938 [00:00<?, ?it/s]"
      ]
     },
     "metadata": {},
     "output_type": "display_data"
    },
    {
     "name": "stderr",
     "output_type": "stream",
     "text": [
      "Exception ignored in: <function _MultiProcessingDataLoaderIter.__del__ at 0x7f1ec2779cb0>Exception ignored in: \n",
      "<function _MultiProcessingDataLoaderIter.__del__ at 0x7f1ec2779cb0>Traceback (most recent call last):\n",
      "\n",
      "  File \"/opt/conda/lib/python3.7/site-packages/torch/utils/data/dataloader.py\", line 1480, in __del__\n",
      "Traceback (most recent call last):\n",
      "      File \"/opt/conda/lib/python3.7/site-packages/torch/utils/data/dataloader.py\", line 1480, in __del__\n",
      "    self._shutdown_workers()\n",
      "self._shutdown_workers()  File \"/opt/conda/lib/python3.7/site-packages/torch/utils/data/dataloader.py\", line 1463, in _shutdown_workers\n",
      "\n",
      "  File \"/opt/conda/lib/python3.7/site-packages/torch/utils/data/dataloader.py\", line 1463, in _shutdown_workers\n",
      "    if w.is_alive():    \n",
      "if w.is_alive():\n",
      "  File \"/opt/conda/lib/python3.7/multiprocessing/process.py\", line 151, in is_alive\n",
      "  File \"/opt/conda/lib/python3.7/multiprocessing/process.py\", line 151, in is_alive\n",
      "        assert self._parent_pid == os.getpid(), 'can only test a child process'\n",
      "assert self._parent_pid == os.getpid(), 'can only test a child process'\n",
      "AssertionErrorAssertionError: can only test a child process: \n",
      "can only test a child process\n"
     ]
    },
    {
     "name": "stdout",
     "output_type": "stream",
     "text": [
      "[14/25][0/938] Loss_D: 0.0062 Loss_G: 6.7112 D(x): 0.9969 D(G(z)): 0.0030 / 0.0013\n",
      "[14/25][100/938] Loss_D: 0.0020 Loss_G: 8.0959 D(x): 0.9984 D(G(z)): 0.0003 / 0.0004\n",
      "[14/25][200/938] Loss_D: 0.0054 Loss_G: 7.0739 D(x): 0.9963 D(G(z)): 0.0016 / 0.0012\n",
      "[14/25][300/938] Loss_D: 0.0035 Loss_G: 6.9580 D(x): 0.9996 D(G(z)): 0.0030 / 0.0012\n",
      "[14/25][400/938] Loss_D: 0.0071 Loss_G: 6.9750 D(x): 1.0000 D(G(z)): 0.0070 / 0.0011\n",
      "[14/25][500/938] Loss_D: 0.0015 Loss_G: 9.9144 D(x): 0.9986 D(G(z)): 0.0001 / 0.0001\n",
      "[14/25][600/938] Loss_D: 0.0070 Loss_G: 6.8274 D(x): 0.9961 D(G(z)): 0.0029 / 0.0016\n",
      "[14/25][700/938] Loss_D: 0.0017 Loss_G: 7.4714 D(x): 0.9996 D(G(z)): 0.0013 / 0.0007\n",
      "[14/25][800/938] Loss_D: 0.0047 Loss_G: 7.0453 D(x): 0.9973 D(G(z)): 0.0020 / 0.0011\n",
      "[14/25][900/938] Loss_D: 0.0028 Loss_G: 7.3009 D(x): 0.9987 D(G(z)): 0.0015 / 0.0009\n"
     ]
    },
    {
     "data": {
      "application/vnd.jupyter.widget-view+json": {
       "model_id": "",
       "version_major": 2,
       "version_minor": 0
      },
      "text/plain": [
       "  0%|          | 0/938 [00:00<?, ?it/s]"
      ]
     },
     "metadata": {},
     "output_type": "display_data"
    },
    {
     "name": "stdout",
     "output_type": "stream",
     "text": [
      "[15/25][0/938] Loss_D: 0.0017 Loss_G: 11.0505 D(x): 0.9984 D(G(z)): 0.0000 / 0.0000\n",
      "[15/25][100/938] Loss_D: 0.0015 Loss_G: 6.8870 D(x): 0.9998 D(G(z)): 0.0013 / 0.0011\n",
      "[15/25][200/938] Loss_D: 0.0304 Loss_G: 7.9111 D(x): 0.9800 D(G(z)): 0.0083 / 0.0005\n",
      "[15/25][300/938] Loss_D: 0.0042 Loss_G: 9.2942 D(x): 0.9973 D(G(z)): 0.0014 / 0.0001\n",
      "[15/25][400/938] Loss_D: 0.0540 Loss_G: 5.1440 D(x): 0.9766 D(G(z)): 0.0133 / 0.0068\n",
      "[15/25][500/938] Loss_D: 0.0263 Loss_G: 5.3954 D(x): 0.9803 D(G(z)): 0.0012 / 0.0066\n",
      "[15/25][600/938] Loss_D: 0.0283 Loss_G: 5.5015 D(x): 0.9934 D(G(z)): 0.0212 / 0.0044\n",
      "[15/25][700/938] Loss_D: 0.0079 Loss_G: 10.0130 D(x): 0.9934 D(G(z)): 0.0009 / 0.0001\n",
      "[15/25][800/938] Loss_D: 0.0160 Loss_G: 5.6173 D(x): 0.9963 D(G(z)): 0.0121 / 0.0041\n",
      "[15/25][900/938] Loss_D: 0.0041 Loss_G: 6.7227 D(x): 0.9978 D(G(z)): 0.0019 / 0.0014\n"
     ]
    },
    {
     "name": "stderr",
     "output_type": "stream",
     "text": [
      "Exception ignored in: <function _MultiProcessingDataLoaderIter.__del__ at 0x7f1ec2779cb0>\n",
      "Traceback (most recent call last):\n",
      "  File \"/opt/conda/lib/python3.7/site-packages/torch/utils/data/dataloader.py\", line 1480, in __del__\n",
      "    self._shutdown_workers()Exception ignored in: \n",
      "<function _MultiProcessingDataLoaderIter.__del__ at 0x7f1ec2779cb0>  File \"/opt/conda/lib/python3.7/site-packages/torch/utils/data/dataloader.py\", line 1463, in _shutdown_workers\n",
      "\n",
      "    if w.is_alive():Traceback (most recent call last):\n",
      "\n",
      "  File \"/opt/conda/lib/python3.7/site-packages/torch/utils/data/dataloader.py\", line 1480, in __del__\n",
      "  File \"/opt/conda/lib/python3.7/multiprocessing/process.py\", line 151, in is_alive\n",
      "        assert self._parent_pid == os.getpid(), 'can only test a child process'self._shutdown_workers()\n",
      "AssertionError\n",
      ": can only test a child process  File \"/opt/conda/lib/python3.7/site-packages/torch/utils/data/dataloader.py\", line 1463, in _shutdown_workers\n",
      "\n",
      "    if w.is_alive():\n",
      "  File \"/opt/conda/lib/python3.7/multiprocessing/process.py\", line 151, in is_alive\n",
      "    assert self._parent_pid == os.getpid(), 'can only test a child process'\n",
      "AssertionError: can only test a child process\n"
     ]
    },
    {
     "data": {
      "application/vnd.jupyter.widget-view+json": {
       "model_id": "",
       "version_major": 2,
       "version_minor": 0
      },
      "text/plain": [
       "  0%|          | 0/938 [00:00<?, ?it/s]"
      ]
     },
     "metadata": {},
     "output_type": "display_data"
    },
    {
     "name": "stdout",
     "output_type": "stream",
     "text": [
      "[16/25][0/938] Loss_D: 0.0261 Loss_G: 6.0363 D(x): 0.9998 D(G(z)): 0.0253 / 0.0031\n",
      "[16/25][100/938] Loss_D: 0.0478 Loss_G: 6.7734 D(x): 0.9850 D(G(z)): 0.0304 / 0.0013\n",
      "[16/25][200/938] Loss_D: 0.0172 Loss_G: 5.7171 D(x): 0.9944 D(G(z)): 0.0109 / 0.0041\n",
      "[16/25][300/938] Loss_D: 0.0059 Loss_G: 6.3012 D(x): 0.9992 D(G(z)): 0.0050 / 0.0020\n",
      "[16/25][400/938] Loss_D: 0.0092 Loss_G: 6.1669 D(x): 0.9977 D(G(z)): 0.0068 / 0.0029\n",
      "[16/25][500/938] Loss_D: 0.0060 Loss_G: 6.3998 D(x): 0.9992 D(G(z)): 0.0051 / 0.0019\n",
      "[16/25][600/938] Loss_D: 17.2646 Loss_G: 24.1511 D(x): 0.0000 D(G(z)): 0.0000 / 0.1064\n",
      "[16/25][700/938] Loss_D: 0.0740 Loss_G: 5.1114 D(x): 0.9661 D(G(z)): 0.0305 / 0.0072\n",
      "[16/25][800/938] Loss_D: 0.0040 Loss_G: 6.0842 D(x): 0.9993 D(G(z)): 0.0033 / 0.0026\n",
      "[16/25][900/938] Loss_D: 0.0064 Loss_G: 6.8603 D(x): 0.9979 D(G(z)): 0.0043 / 0.0015\n"
     ]
    },
    {
     "data": {
      "application/vnd.jupyter.widget-view+json": {
       "model_id": "",
       "version_major": 2,
       "version_minor": 0
      },
      "text/plain": [
       "  0%|          | 0/938 [00:00<?, ?it/s]"
      ]
     },
     "metadata": {},
     "output_type": "display_data"
    },
    {
     "name": "stdout",
     "output_type": "stream",
     "text": [
      "[17/25][0/938] Loss_D: 0.0506 Loss_G: 6.7439 D(x): 0.9925 D(G(z)): 0.0409 / 0.0016\n",
      "[17/25][100/938] Loss_D: 0.0204 Loss_G: 5.5923 D(x): 0.9859 D(G(z)): 0.0051 / 0.0047\n",
      "[17/25][200/938] Loss_D: 0.0375 Loss_G: 7.6340 D(x): 0.9734 D(G(z)): 0.0004 / 0.0005\n",
      "[17/25][300/938] Loss_D: 0.0472 Loss_G: 5.1385 D(x): 0.9671 D(G(z)): 0.0085 / 0.0077\n",
      "[17/25][400/938] Loss_D: 0.0285 Loss_G: 5.2306 D(x): 0.9870 D(G(z)): 0.0143 / 0.0065\n",
      "[17/25][500/938] Loss_D: 0.0156 Loss_G: 5.5301 D(x): 0.9907 D(G(z)): 0.0060 / 0.0047\n",
      "[17/25][600/938] Loss_D: 0.0063 Loss_G: 6.2808 D(x): 0.9954 D(G(z)): 0.0016 / 0.0026\n",
      "[17/25][700/938] Loss_D: 0.3253 Loss_G: 22.3640 D(x): 0.9716 D(G(z)): 0.1826 / 0.0000\n",
      "[17/25][800/938] Loss_D: 0.0569 Loss_G: 5.0841 D(x): 0.9799 D(G(z)): 0.0327 / 0.0074\n",
      "[17/25][900/938] Loss_D: 0.0610 Loss_G: 5.8276 D(x): 0.9723 D(G(z)): 0.0291 / 0.0038\n"
     ]
    },
    {
     "data": {
      "application/vnd.jupyter.widget-view+json": {
       "model_id": "",
       "version_major": 2,
       "version_minor": 0
      },
      "text/plain": [
       "  0%|          | 0/938 [00:00<?, ?it/s]"
      ]
     },
     "metadata": {},
     "output_type": "display_data"
    },
    {
     "name": "stdout",
     "output_type": "stream",
     "text": [
      "[18/25][0/938] Loss_D: 0.0608 Loss_G: 6.3670 D(x): 0.9974 D(G(z)): 0.0551 / 0.0024\n",
      "[18/25][100/938] Loss_D: 0.0828 Loss_G: 4.8321 D(x): 0.9788 D(G(z)): 0.0446 / 0.0096\n",
      "[18/25][200/938] Loss_D: 0.0195 Loss_G: 5.4835 D(x): 0.9942 D(G(z)): 0.0133 / 0.0048\n",
      "[18/25][300/938] Loss_D: 0.0769 Loss_G: 4.3407 D(x): 0.9587 D(G(z)): 0.0254 / 0.0150\n",
      "[18/25][400/938] Loss_D: 0.0143 Loss_G: 6.0028 D(x): 0.9966 D(G(z)): 0.0108 / 0.0033\n",
      "[18/25][500/938] Loss_D: 0.0182 Loss_G: 5.8258 D(x): 0.9942 D(G(z)): 0.0118 / 0.0045\n",
      "[18/25][600/938] Loss_D: 0.0492 Loss_G: 5.7384 D(x): 0.9815 D(G(z)): 0.0264 / 0.0035\n",
      "[18/25][700/938] Loss_D: 0.1599 Loss_G: 18.1215 D(x): 0.9254 D(G(z)): 0.0009 / 0.0025\n",
      "[18/25][800/938] Loss_D: 0.0360 Loss_G: 6.1313 D(x): 0.9925 D(G(z)): 0.0277 / 0.0026\n",
      "[18/25][900/938] Loss_D: 0.0366 Loss_G: 5.2609 D(x): 0.9801 D(G(z)): 0.0031 / 0.0069\n"
     ]
    },
    {
     "name": "stderr",
     "output_type": "stream",
     "text": [
      "Exception ignored in: Exception ignored in: <function _MultiProcessingDataLoaderIter.__del__ at 0x7f1ec2779cb0><function _MultiProcessingDataLoaderIter.__del__ at 0x7f1ec2779cb0>\n",
      "\n",
      "Traceback (most recent call last):\n",
      "Traceback (most recent call last):\n",
      "  File \"/opt/conda/lib/python3.7/site-packages/torch/utils/data/dataloader.py\", line 1480, in __del__\n",
      "  File \"/opt/conda/lib/python3.7/site-packages/torch/utils/data/dataloader.py\", line 1480, in __del__\n",
      "    self._shutdown_workers()    \n",
      "self._shutdown_workers()  File \"/opt/conda/lib/python3.7/site-packages/torch/utils/data/dataloader.py\", line 1463, in _shutdown_workers\n",
      "\n",
      "  File \"/opt/conda/lib/python3.7/site-packages/torch/utils/data/dataloader.py\", line 1463, in _shutdown_workers\n",
      "    if w.is_alive():\n",
      "      File \"/opt/conda/lib/python3.7/multiprocessing/process.py\", line 151, in is_alive\n",
      "if w.is_alive():    \n",
      "assert self._parent_pid == os.getpid(), 'can only test a child process'  File \"/opt/conda/lib/python3.7/multiprocessing/process.py\", line 151, in is_alive\n",
      "\n",
      "AssertionError    : assert self._parent_pid == os.getpid(), 'can only test a child process'can only test a child process\n",
      "\n",
      "AssertionError: can only test a child process\n"
     ]
    },
    {
     "data": {
      "application/vnd.jupyter.widget-view+json": {
       "model_id": "",
       "version_major": 2,
       "version_minor": 0
      },
      "text/plain": [
       "  0%|          | 0/938 [00:00<?, ?it/s]"
      ]
     },
     "metadata": {},
     "output_type": "display_data"
    },
    {
     "name": "stdout",
     "output_type": "stream",
     "text": [
      "[19/25][0/938] Loss_D: 0.0150 Loss_G: 5.8029 D(x): 0.9908 D(G(z)): 0.0046 / 0.0034\n",
      "[19/25][100/938] Loss_D: 0.0337 Loss_G: 5.2265 D(x): 0.9781 D(G(z)): 0.0031 / 0.0075\n",
      "[19/25][200/938] Loss_D: 0.0078 Loss_G: 6.3618 D(x): 0.9992 D(G(z)): 0.0070 / 0.0020\n",
      "[19/25][300/938] Loss_D: 0.0058 Loss_G: 5.7210 D(x): 0.9991 D(G(z)): 0.0049 / 0.0036\n",
      "[19/25][400/938] Loss_D: 0.0054 Loss_G: 6.4985 D(x): 0.9974 D(G(z)): 0.0027 / 0.0019\n",
      "[19/25][500/938] Loss_D: 0.0088 Loss_G: 13.1649 D(x): 0.9930 D(G(z)): 0.0001 / 0.0000\n",
      "[19/25][600/938] Loss_D: 0.0085 Loss_G: 7.5139 D(x): 1.0000 D(G(z)): 0.0082 / 0.0010\n",
      "[19/25][700/938] Loss_D: 0.0322 Loss_G: 5.8864 D(x): 0.9921 D(G(z)): 0.0228 / 0.0035\n",
      "[19/25][800/938] Loss_D: 0.0186 Loss_G: 7.2580 D(x): 0.9915 D(G(z)): 0.0068 / 0.0020\n",
      "[19/25][900/938] Loss_D: 0.0050 Loss_G: 6.6262 D(x): 0.9999 D(G(z)): 0.0049 / 0.0017\n"
     ]
    },
    {
     "data": {
      "application/vnd.jupyter.widget-view+json": {
       "model_id": "",
       "version_major": 2,
       "version_minor": 0
      },
      "text/plain": [
       "  0%|          | 0/938 [00:00<?, ?it/s]"
      ]
     },
     "metadata": {},
     "output_type": "display_data"
    },
    {
     "name": "stdout",
     "output_type": "stream",
     "text": [
      "[20/25][0/938] Loss_D: 0.1670 Loss_G: 24.8843 D(x): 0.9538 D(G(z)): 0.0003 / 0.0010\n",
      "[20/25][100/938] Loss_D: 0.0113 Loss_G: 5.6573 D(x): 0.9955 D(G(z)): 0.0064 / 0.0039\n",
      "[20/25][200/938] Loss_D: 0.0161 Loss_G: 5.8879 D(x): 0.9949 D(G(z)): 0.0103 / 0.0044\n",
      "[20/25][300/938] Loss_D: 0.0346 Loss_G: 5.8113 D(x): 0.9868 D(G(z)): 0.0196 / 0.0038\n",
      "[20/25][400/938] Loss_D: 0.0439 Loss_G: 4.6197 D(x): 0.9843 D(G(z)): 0.0140 / 0.0118\n",
      "[20/25][500/938] Loss_D: 0.0060 Loss_G: 6.5221 D(x): 0.9956 D(G(z)): 0.0015 / 0.0017\n",
      "[20/25][600/938] Loss_D: 0.0085 Loss_G: 5.8975 D(x): 0.9967 D(G(z)): 0.0051 / 0.0034\n",
      "[20/25][700/938] Loss_D: 0.0115 Loss_G: 5.1364 D(x): 0.9962 D(G(z)): 0.0074 / 0.0080\n",
      "[20/25][800/938] Loss_D: 0.0459 Loss_G: 7.8293 D(x): 0.9925 D(G(z)): 0.0331 / 0.0028\n",
      "[20/25][900/938] Loss_D: 0.0450 Loss_G: 4.4062 D(x): 0.9766 D(G(z)): 0.0025 / 0.0154\n"
     ]
    },
    {
     "data": {
      "application/vnd.jupyter.widget-view+json": {
       "model_id": "",
       "version_major": 2,
       "version_minor": 0
      },
      "text/plain": [
       "  0%|          | 0/938 [00:00<?, ?it/s]"
      ]
     },
     "metadata": {},
     "output_type": "display_data"
    },
    {
     "name": "stdout",
     "output_type": "stream",
     "text": [
      "[21/25][0/938] Loss_D: 0.0037 Loss_G: 6.1009 D(x): 0.9994 D(G(z)): 0.0030 / 0.0033\n",
      "[21/25][100/938] Loss_D: 0.0073 Loss_G: 6.1314 D(x): 0.9970 D(G(z)): 0.0042 / 0.0026\n",
      "[21/25][200/938] Loss_D: 0.0027 Loss_G: 6.2357 D(x): 0.9994 D(G(z)): 0.0021 / 0.0034\n",
      "[21/25][300/938] Loss_D: 0.1136 Loss_G: 7.7335 D(x): 0.9325 D(G(z)): 0.0003 / 0.0024\n",
      "[21/25][400/938] Loss_D: 0.0763 Loss_G: 6.5138 D(x): 0.9862 D(G(z)): 0.0546 / 0.0019\n",
      "[21/25][500/938] Loss_D: 0.1024 Loss_G: 4.5663 D(x): 0.9668 D(G(z)): 0.0146 / 0.0124\n",
      "[21/25][600/938] Loss_D: 0.0572 Loss_G: 7.9902 D(x): 0.9991 D(G(z)): 0.0518 / 0.0021\n",
      "[21/25][700/938] Loss_D: 0.0049 Loss_G: 6.9598 D(x): 0.9978 D(G(z)): 0.0026 / 0.0012\n",
      "[21/25][800/938] Loss_D: 0.0101 Loss_G: 7.6225 D(x): 0.9915 D(G(z)): 0.0004 / 0.0008\n",
      "[21/25][900/938] Loss_D: 0.0097 Loss_G: 6.5562 D(x): 0.9990 D(G(z)): 0.0082 / 0.0029\n"
     ]
    },
    {
     "data": {
      "application/vnd.jupyter.widget-view+json": {
       "model_id": "",
       "version_major": 2,
       "version_minor": 0
      },
      "text/plain": [
       "  0%|          | 0/938 [00:00<?, ?it/s]"
      ]
     },
     "metadata": {},
     "output_type": "display_data"
    },
    {
     "name": "stdout",
     "output_type": "stream",
     "text": [
      "[22/25][0/938] Loss_D: 0.0339 Loss_G: 4.9058 D(x): 0.9859 D(G(z)): 0.0036 / 0.0102\n",
      "[22/25][100/938] Loss_D: 0.0725 Loss_G: 11.3489 D(x): 0.9544 D(G(z)): 0.0049 / 0.0066\n",
      "[22/25][200/938] Loss_D: 0.0404 Loss_G: 5.4466 D(x): 0.9768 D(G(z)): 0.0094 / 0.0097\n",
      "[22/25][300/938] Loss_D: 0.8602 Loss_G: 11.0765 D(x): 0.7066 D(G(z)): 0.0000 / 0.0021\n",
      "[22/25][400/938] Loss_D: 0.0099 Loss_G: 6.1435 D(x): 0.9948 D(G(z)): 0.0036 / 0.0031\n",
      "[22/25][500/938] Loss_D: 0.0076 Loss_G: 6.2360 D(x): 0.9992 D(G(z)): 0.0067 / 0.0032\n",
      "[22/25][600/938] Loss_D: 0.0369 Loss_G: 5.9610 D(x): 0.9864 D(G(z)): 0.0204 / 0.0033\n",
      "[22/25][700/938] Loss_D: 0.0199 Loss_G: 6.0105 D(x): 0.9937 D(G(z)): 0.0131 / 0.0034\n",
      "[22/25][800/938] Loss_D: 0.0089 Loss_G: 5.4495 D(x): 0.9963 D(G(z)): 0.0050 / 0.0056\n",
      "[22/25][900/938] Loss_D: 0.0149 Loss_G: 5.3428 D(x): 0.9955 D(G(z)): 0.0100 / 0.0059\n"
     ]
    },
    {
     "data": {
      "application/vnd.jupyter.widget-view+json": {
       "model_id": "",
       "version_major": 2,
       "version_minor": 0
      },
      "text/plain": [
       "  0%|          | 0/938 [00:00<?, ?it/s]"
      ]
     },
     "metadata": {},
     "output_type": "display_data"
    },
    {
     "name": "stdout",
     "output_type": "stream",
     "text": [
      "[23/25][0/938] Loss_D: 0.0013 Loss_G: 8.7246 D(x): 0.9991 D(G(z)): 0.0003 / 0.0002\n",
      "[23/25][100/938] Loss_D: 0.0065 Loss_G: 6.4257 D(x): 0.9986 D(G(z)): 0.0051 / 0.0021\n",
      "[23/25][200/938] Loss_D: 0.0667 Loss_G: 17.5900 D(x): 0.9833 D(G(z)): 0.0047 / 0.0029\n",
      "[23/25][300/938] Loss_D: 0.0484 Loss_G: 4.8951 D(x): 0.9860 D(G(z)): 0.0251 / 0.0155\n",
      "[23/25][400/938] Loss_D: 0.1406 Loss_G: 4.4024 D(x): 0.9602 D(G(z)): 0.0216 / 0.0211\n",
      "[23/25][500/938] Loss_D: 0.0214 Loss_G: 5.2870 D(x): 0.9895 D(G(z)): 0.0091 / 0.0057\n",
      "[23/25][600/938] Loss_D: 0.0930 Loss_G: 14.4569 D(x): 0.9486 D(G(z)): 0.0148 / 0.0076\n",
      "[23/25][700/938] Loss_D: 0.0082 Loss_G: 6.0963 D(x): 0.9990 D(G(z)): 0.0072 / 0.0032\n",
      "[23/25][800/938] Loss_D: 0.0052 Loss_G: 6.3765 D(x): 0.9985 D(G(z)): 0.0037 / 0.0030\n",
      "[23/25][900/938] Loss_D: 0.0083 Loss_G: 6.2947 D(x): 0.9986 D(G(z)): 0.0069 / 0.0025\n"
     ]
    },
    {
     "data": {
      "application/vnd.jupyter.widget-view+json": {
       "model_id": "",
       "version_major": 2,
       "version_minor": 0
      },
      "text/plain": [
       "  0%|          | 0/938 [00:00<?, ?it/s]"
      ]
     },
     "metadata": {},
     "output_type": "display_data"
    },
    {
     "name": "stdout",
     "output_type": "stream",
     "text": [
      "[24/25][0/938] Loss_D: 0.0006 Loss_G: 9.6653 D(x): 0.9995 D(G(z)): 0.0002 / 0.0001\n",
      "[24/25][100/938] Loss_D: 0.0066 Loss_G: 6.4686 D(x): 0.9982 D(G(z)): 0.0047 / 0.0026\n",
      "[24/25][200/938] Loss_D: 0.0065 Loss_G: 6.4200 D(x): 0.9955 D(G(z)): 0.0019 / 0.0022\n",
      "[24/25][300/938] Loss_D: 0.0371 Loss_G: 6.1189 D(x): 0.9913 D(G(z)): 0.0256 / 0.0028\n",
      "[24/25][400/938] Loss_D: 0.0074 Loss_G: 6.1581 D(x): 0.9979 D(G(z)): 0.0052 / 0.0027\n",
      "[24/25][500/938] Loss_D: 0.0142 Loss_G: 6.5475 D(x): 0.9981 D(G(z)): 0.0121 / 0.0018\n",
      "[24/25][600/938] Loss_D: 6.6885 Loss_G: 11.9007 D(x): 0.0950 D(G(z)): 0.0000 / 0.5599\n",
      "[24/25][700/938] Loss_D: 0.0379 Loss_G: 4.9322 D(x): 0.9816 D(G(z)): 0.0157 / 0.0107\n",
      "[24/25][800/938] Loss_D: 0.0101 Loss_G: 6.5613 D(x): 0.9925 D(G(z)): 0.0022 / 0.0017\n",
      "[24/25][900/938] Loss_D: 0.0086 Loss_G: 6.7276 D(x): 0.9958 D(G(z)): 0.0040 / 0.0021\n"
     ]
    }
   ],
   "source": [
    "criterion = nn.BCELoss()\n",
    "\n",
    "fixed_noise = torch.randn(BS, nz, 1, 1, device=device)\n",
    "real_label = 1\n",
    "fake_label = 0\n",
    "\n",
    "# setup optimizer\n",
    "optimizerD = optim.Adam(netD.parameters(), lr=lr, betas=(beta1, 0.999))\n",
    "optimizerG = optim.Adam(netG.parameters(), lr=lr, betas=(beta1, 0.999))\n",
    "\n",
    "for epoch in tqdm(range(EPOCHS)):\n",
    "    for i, data in enumerate(tqdm(dataloader, leave=False), 0):\n",
    "        # (1) Update D network: maximize log(D(x)) + log(1 - D(G(z)))\n",
    "        \n",
    "        # train with real images\n",
    "        netD.zero_grad()\n",
    "        real_imgs = data[0].to(device)\n",
    "        batch_size = real_imgs.size(0)\n",
    "        # generate a batch of real labels\n",
    "        label = torch.full((batch_size,), real_label,\n",
    "                           dtype=real_imgs.dtype, device=device)\n",
    "        \n",
    "        output = netD(real_imgs)\n",
    "        errD_real = criterion(output, label)\n",
    "        errD_real.backward()\n",
    "        D_x = output.mean().item()\n",
    "\n",
    "        # train with fake images\n",
    "        noise = torch.randn(batch_size, nz, 1, 1, device=device)\n",
    "        # generate fake images\n",
    "        fake = netG(noise)\n",
    "        label.fill_(fake_label)\n",
    "        # use D to predict fake images\n",
    "        output = netD(fake.detach())\n",
    "        errD_fake = criterion(output, label)\n",
    "        errD_fake.backward()\n",
    "        D_G_z1 = output.mean().item()\n",
    "        \n",
    "        errD = errD_real + errD_fake\n",
    "        optimizerD.step()\n",
    "\n",
    "        # (2) Update G network: maximize log(D(G(z)))\n",
    "        netG.zero_grad()\n",
    "        label.fill_(real_label)  # fake labels are real for generator cost\n",
    "        output = netD(fake)\n",
    "        errG = criterion(output, label)\n",
    "        errG.backward()\n",
    "        D_G_z2 = output.mean().item()\n",
    "        optimizerG.step()\n",
    "        if i % 100 == 0:\n",
    "            print('[%d/%d][%d/%d] Loss_D: %.4f Loss_G: %.4f D(x): %.4f D(G(z)): %.4f / %.4f'\n",
    "              % (epoch, EPOCHS, i, len(dataloader), errD.item(), errG.item(), D_x, D_G_z1, D_G_z2))\n",
    "\n",
    "            vutils.save_image(real_imgs,\n",
    "                    '%s/real_samples.png' % outf,\n",
    "                    normalize=True)\n",
    "            fake = netG(fixed_noise)\n",
    "            vutils.save_image(fake.detach(),\n",
    "                    '%s/fake_samples_epoch_%03d.png' % (outf, epoch),\n",
    "                    normalize=True)\n",
    "\n",
    "    # save checkpoint\n",
    "    torch.save(netG.state_dict(), '%s/netG_epoch_%d.pth' % (outf, epoch))\n",
    "    torch.save(netD.state_dict(), '%s/netD_epoch_%d.pth' % (outf, epoch))"
   ]
  },
  {
   "cell_type": "markdown",
   "id": "6a680f21",
   "metadata": {},
   "source": [
    "# Generate"
   ]
  },
  {
   "cell_type": "code",
   "execution_count": 6,
   "id": "ed719c61",
   "metadata": {},
   "outputs": [
    {
     "data": {
      "text/plain": [
       "<All keys matched successfully>"
      ]
     },
     "execution_count": 6,
     "metadata": {},
     "output_type": "execute_result"
    }
   ],
   "source": [
    "# load weights\n",
    "netG.load_state_dict(torch.load(\"dcgan/netG_epoch_9.pth\"))"
   ]
  },
  {
   "cell_type": "code",
   "execution_count": 21,
   "id": "5dfa5cc4",
   "metadata": {},
   "outputs": [],
   "source": [
    "# use random noise to generate images\n",
    "noise = torch.randn(16, nz, 1, 1, device=device)\n",
    "img_fake = netG(noise).squeeze(1).detach().cpu().numpy()"
   ]
  },
  {
   "cell_type": "code",
   "execution_count": 22,
   "id": "42f36af0",
   "metadata": {},
   "outputs": [
    {
     "data": {
      "text/plain": [
       "(16, 64, 64)"
      ]
     },
     "execution_count": 22,
     "metadata": {},
     "output_type": "execute_result"
    }
   ],
   "source": [
    "img_fake.shape"
   ]
  },
  {
   "cell_type": "code",
   "execution_count": 23,
   "id": "c7184d92",
   "metadata": {},
   "outputs": [
    {
     "data": {
      "image/png": "[encoded data removed]",
      "text/plain": [
       "<Figure size 576x576 with 16 Axes>"
      ]
     },
     "metadata": {
      "needs_background": "light"
     },
     "output_type": "display_data"
    }
   ],
   "source": [
    "import matplotlib.pyplot as plt\n",
    "\n",
    "plt.figure(figsize=(8, 8))\n",
    "for i in range(len(img_fake)):\n",
    "    plt.subplot(4, 4, i+1)\n",
    "    plt.imshow(img_fake[i], cmap=\"gray\")\n",
    "plt.show()"
   ]
  },
  {
   "cell_type": "code",
   "execution_count": null,
   "id": "a106424a",
   "metadata": {},
   "outputs": [],
   "source": []
  }
 ],
 "metadata": {
  "kernelspec": {
   "display_name": "Python 3 (ipykernel)",
   "language": "python",
   "name": "python3"
  },
  "language_info": {
   "codemirror_mode": {
    "name": "ipython",
    "version": 3
   },
   "file_extension": ".py",
   "mimetype": "text/x-python",
   "name": "python",
   "nbconvert_exporter": "python",
   "pygments_lexer": "ipython3",
   "version": "3.7.12"
  }
 },
 "nbformat": 4,
 "nbformat_minor": 5
}
